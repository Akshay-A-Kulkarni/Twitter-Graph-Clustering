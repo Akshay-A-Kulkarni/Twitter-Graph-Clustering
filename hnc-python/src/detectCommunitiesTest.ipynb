{
 "cells": [
  {
   "cell_type": "code",
   "execution_count": 1,
   "metadata": {},
   "outputs": [],
   "source": [
    "from _detectCommunities import CommunityDetector\n",
    "import networkx as nx\n",
    "import pandas as pd\n",
    "cd = CommunityDetector(name_arg = \"GN_SY_Test_1\")"
   ]
  },
  {
   "cell_type": "markdown",
   "metadata": {},
   "source": [
    "Testing the 'buildNxGraph' method.  "
   ]
  },
  {
   "cell_type": "code",
   "execution_count": 2,
   "metadata": {},
   "outputs": [],
   "source": [
    "nxG, H = cd.buildNxGraph()\n",
    "# print(\"Node List from NX Graph: \\n\", pd.DataFrame(nxG.edges, columns = [\"Source\", \"Target\"]).head())\n",
    "# print(\"------------------------------------------------------------\")\n",
    "# print(\"Edge List from NX Graph: \\n\", pd.DataFrame(nxG.nodes, columns = [\"Node ID\"]).head())\n",
    "# print(\"Type of NX Graph: \", type(nxG))\n",
    "# print(\"Type of 'H': \", type(H))"
   ]
  },
  {
   "cell_type": "markdown",
   "metadata": {},
   "source": [
    "Testing the 'builSnapGraph' method. "
   ]
  },
  {
   "cell_type": "code",
   "execution_count": 3,
   "metadata": {},
   "outputs": [
    {
     "name": "stdout",
     "output_type": "stream",
     "text": [
      "SNAP Graph construction complete.\n",
      "Verify type of SNAP Graph:  <class 'snap.PUNGraph'>\n",
      "Verify type of 'H':  <class '_generateGraph.HashtagGraph'>\n"
     ]
    }
   ],
   "source": [
    "snpG, H = cd.buildSnapGraph()\n",
    "print(\"Verify type of SNAP Graph: \", type(snpG))\n",
    "print(\"Verify type of 'H': \", type(H))"
   ]
  },
  {
   "cell_type": "markdown",
   "metadata": {},
   "source": [
    "Test the 'detectCommunities' and 'writeTxt' methods.  "
   ]
  },
  {
   "cell_type": "code",
   "execution_count": 4,
   "metadata": {},
   "outputs": [
    {
     "name": "stdout",
     "output_type": "stream",
     "text": [
      "SNAP Graph construction complete.\n",
      "The modularity of the network is 0.803579\n",
      "Time : 705.2639973163605 seconds\n",
      "Community labelled graph exported as  GN_SY_Test_1 .json\n",
      "Export done\n"
     ]
    }
   ],
   "source": [
    "cd.detectCommunities(algo = \"GN\", printout = False)"
   ]
  },
  {
   "cell_type": "code",
   "execution_count": null,
   "metadata": {},
   "outputs": [],
   "source": []
  }
 ],
 "metadata": {
  "kernelspec": {
   "display_name": "Python 3",
   "language": "python",
   "name": "python3"
  },
  "language_info": {
   "codemirror_mode": {
    "name": "ipython",
    "version": 3
   },
   "file_extension": ".py",
   "mimetype": "text/x-python",
   "name": "python",
   "nbconvert_exporter": "python",
   "pygments_lexer": "ipython3",
   "version": "3.7.4"
  }
 },
 "nbformat": 4,
 "nbformat_minor": 4
}
