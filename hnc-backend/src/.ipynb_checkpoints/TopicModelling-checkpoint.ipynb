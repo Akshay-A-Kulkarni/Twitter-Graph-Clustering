{
 "cells": [
  {
   "cell_type": "code",
   "execution_count": null,
   "metadata": {},
   "outputs": [],
   "source": [
    "# Installing libs \n",
    "\n",
    "# !pip install spacy\n",
    "# !pip install gensim\n",
    "# !pip install tqdm\n",
    "\n",
    "## Pretrained statistical models for English\n",
    "# !python -m spacy download en_core_web_md"
   ]
  },
  {
   "cell_type": "code",
   "execution_count": 1,
   "metadata": {},
   "outputs": [],
   "source": [
    "import numpy as np\n",
    "import pandas as pd\n",
    "from tqdm.notebook import trange, tqdm\n",
    "from pprint import pprint\n",
    "\n",
    "\n",
    "import gensim    # GenSim Deps\n",
    "import gensim.corpora as corpora\n",
    "from gensim.utils import simple_preprocess\n",
    "from gensim.models import CoherenceModel\n",
    "\n",
    "\n",
    "import spacy     # SpaCy Deps\n",
    "nlp = spacy.load('en_core_web_md') # Load Tokenizer, Tagger, Parser, NER and Word Vecs\n",
    "\n",
    "from spacy.lemmatizer import Lemmatizer\n",
    "from spacy.lang.en.stop_words import STOP_WORDS\n"
   ]
  },
  {
   "cell_type": "code",
   "execution_count": 9,
   "metadata": {},
   "outputs": [],
   "source": [
    "from spacymoji import Emoji\n",
    "emoji = Emoji(nlp)"
   ]
  },
  {
   "cell_type": "code",
   "execution_count": 6,
   "metadata": {},
   "outputs": [
    {
     "data": {
      "text/plain": [
       "'The president of #Catalonia Infected with #coronavirus\\n#COVID19 #Spain #CoronaVirusUpdates'"
      ]
     },
     "execution_count": 6,
     "metadata": {},
     "output_type": "execute_result"
    }
   ],
   "source": [
    "# nytimes = pd.read_csv('/Users/akshaykulkarni/Desktop/sample.csv')\n",
    "tweets = pd.read_csv('data/Hashtag_Raw_Data/COVID19_hashtags7_text.csv')\n",
    "tweets[\"text\"][3]"
   ]
  },
  {
   "cell_type": "code",
   "execution_count": 7,
   "metadata": {},
   "outputs": [],
   "source": [
    "x = tweets[\"text\"]"
   ]
  },
  {
   "cell_type": "code",
   "execution_count": 41,
   "metadata": {},
   "outputs": [],
   "source": [
    "# stop_list = [\"Mrs.\",\"Ms.\",\"say\",\"WASHINGTON\",\"'s\",\"Mr.\",]\n",
    "\n",
    "\n",
    "# Updating spaCy's default stop words list with additional words. \n",
    "\n",
    "# nlp.Defaults.stop_words.update(stop_list)\n",
    "\n",
    "# for word in STOP_WORDS:\n",
    "#     lexeme = nlp.vocab[word]\n",
    "#     lexeme.is_stop = True"
   ]
  },
  {
   "cell_type": "code",
   "execution_count": 10,
   "metadata": {},
   "outputs": [],
   "source": [
    "allowed_postags=['NOUN', 'ADJ', 'VERB', 'ADV']\n",
    "\n",
    "def lemmatizer(doc):\n",
    "    '''\n",
    "    Takes in a doc of tokens from NER and lemmatizes.\n",
    "    Pronouns get lemmatized to '-PRON-', removes those as well.\n",
    "    '''\n",
    "    doc = [token.lemma_ for token in doc if token.lemma_ in allowed_postags]\n",
    "    doc = u' '.join(doc)\n",
    "    return nlp.make_doc(doc)\n",
    "\n",
    "\n",
    "def remove_stopwords(doc):\n",
    "    '''\n",
    "    Removing stop-words and puncs\n",
    "    '''\n",
    "    doc = [token.text for token in doc if \n",
    "           token.is_stop != True and token.is_punct != True]\n",
    "    return doc\n",
    "\n",
    "\n",
    "# Adding Custom functions to default pipeline.\n",
    "nlp.add_pipe(lemmatizer, name='lemmatizer', after='ner')\n",
    "nlp.add_pipe(remove_stopwords, name='stopwords', last=True)"
   ]
  },
  {
   "cell_type": "code",
   "execution_count": 14,
   "metadata": {},
   "outputs": [
    {
     "data": {
      "application/vnd.jupyter.widget-view+json": {
       "model_id": "88723fba51e04c04ba3abae2f361fda8",
       "version_major": 2,
       "version_minor": 0
      },
      "text/plain": [
       "HBox(children=(FloatProgress(value=0.0, max=2661.0), HTML(value='')))"
      ]
     },
     "metadata": {},
     "output_type": "display_data"
    },
    {
     "name": "stdout",
     "output_type": "stream",
     "text": [
      "\n"
     ]
    }
   ],
   "source": [
    "doc_list = []\n",
    "# Iterating through each article in the corpus.\n",
    "for doc in tqdm(x):\n",
    "    pr = nlp(doc)\n",
    "    doc_list.append(pr)"
   ]
  },
  {
   "cell_type": "code",
   "execution_count": 15,
   "metadata": {},
   "outputs": [],
   "source": [
    "# Creates, which is a mapping of word IDs to words.\n",
    "\n",
    "words = corpora.Dictionary(doc_list)\n",
    "\n",
    "# Turns each document into a bag of words.\n",
    "corpus = [words.doc2bow(doc) for doc in doc_list]"
   ]
  },
  {
   "cell_type": "code",
   "execution_count": 16,
   "metadata": {},
   "outputs": [],
   "source": [
    "lda_model = gensim.models.ldamodel.LdaModel(corpus=corpus,\n",
    "                                           id2word=words,\n",
    "                                           num_topics=10, \n",
    "                                           random_state=2,\n",
    "                                           update_every=1,\n",
    "                                           passes=10,\n",
    "                                           alpha='auto',\n",
    "                                           per_word_topics=True)"
   ]
  },
  {
   "cell_type": "code",
   "execution_count": 17,
   "metadata": {},
   "outputs": [
    {
     "name": "stdout",
     "output_type": "stream",
     "text": [
      "[(0,\n",
      "  '0.107*\"\\n'\n",
      "  ' \" + 0.033*\"COVID19\" + 0.016*\"coronavirus\" + 0.012*\"covid19\" + 0.011*\"🤣\" + '\n",
      "  '0.007*\"\\n'\n",
      "  '\\n'\n",
      "  ' \" + 0.004*\"Covid19\" + 0.004*\"🛑\" + 0.004*\"thank\" + 0.004*\"👇\"'),\n",
      " (1,\n",
      "  '0.033*\"covid19\" + 0.030*\"\\n'\n",
      "  '\\n'\n",
      "  ' \" + 0.027*\"coronavirus\" + 0.020*\"COVID19\" + 0.007*\"\\n'\n",
      "  ' \" + 0.007*\"Covid19\" + 0.006*\"home\" + 0.006*\"amp\" + 0.006*\"work\" + '\n",
      "  '0.005*\"COVIDー19\"'),\n",
      " (2,\n",
      "  '0.030*\"coronavirus\" + 0.028*\"COVID19\" + 0.024*\"  \" + 0.023*\"covid19\" + '\n",
      "  '0.012*\"\\n'\n",
      "  '\\n'\n",
      "  ' \" + 0.010*\"CoronavirusOutbreak\" + 0.009*\"Coronavirus\" + 0.007*\"\\n'\n",
      "  ' \" + 0.006*\"day\" + 0.005*\"QuarantineLife\"'),\n",
      " (3,\n",
      "  '0.026*\"COVID19\" + 0.014*\"Coronavirus\" + 0.010*\"\\n'\n",
      "  '\\n'\n",
      "  ' \" + 0.006*\"support\" + 0.005*\"\\n'\n",
      "  ' \" + 0.005*\"Corona\" + 0.004*\"😷\" + 0.004*\"update\" + 0.004*\"Covid19\" + '\n",
      "  '0.003*\"covid19\"'),\n",
      " (4,\n",
      "  '0.044*\"covid19\" + 0.021*\"coronavirus\" + 0.017*\"  \" + 0.013*\"\\n'\n",
      "  '\\n'\n",
      "  ' \" + 0.011*\"\\n'\n",
      "  ' \" + 0.006*\"CoronavirusOutbreak\" + 0.005*\"amp\" + 0.004*\"China\" + '\n",
      "  '0.004*\"help\" + 0.004*\"2020\"'),\n",
      " (5,\n",
      "  '0.030*\"\\n'\n",
      "  '\\n'\n",
      "  ' \" + 0.027*\"COVID19\" + 0.022*\"\\n'\n",
      "  ' \" + 0.022*\"covid19\" + 0.019*\"coronavirus\" + 0.011*\"Coronavirus\" + 0.009*\"  '\n",
      "  '\" + 0.007*\"stay\" + 0.006*\"safe\" + 0.006*\"amp\"'),\n",
      " (6,\n",
      "  '0.039*\"\\n'\n",
      "  '\\n'\n",
      "  ' \" + 0.027*\"\\n'\n",
      "  ' \" + 0.027*\"COVID19\" + 0.019*\"covid19\" + 0.013*\"  \" + 0.007*\"coronavirus\" + '\n",
      "  '0.005*\"Coronavirus\" + 0.004*\"Trump\" + 0.004*\"️\" + 0.004*\"good\"'),\n",
      " (7,\n",
      "  '0.040*\"COVID19\" + 0.023*\"QuarantineLife\" + 0.011*\"CoronavirusOutbreak\" + '\n",
      "  '0.011*\"StayTheFHome\" + 0.011*\"✅\" + 0.010*\"coronapocolypse\" + '\n",
      "  '0.010*\"coronavirus\" + 0.010*\"ShutItDown\" + 0.009*\"$\" + 0.008*\"\\n'\n",
      "  '\\n'\n",
      "  ' \"'),\n",
      " (8,\n",
      "  '0.035*\"case\" + 0.024*\"COVID19\" + 0.019*\"confirm\" + 0.018*\"error\" + '\n",
      "  '0.016*\"covid19\" + 0.015*\"coronavirus\" + 0.013*\"\\n'\n",
      "  '\\n'\n",
      "  ' \" + 0.010*\"country\" + 0.010*\"death\" + 0.007*\"number\"'),\n",
      " (9,\n",
      "  '0.090*\"\\n'\n",
      "  ' \" + 0.022*\"covid19\" + 0.022*\"COVID19\" + 0.018*\"coronavirus\" + 0.010*\"\\n'\n",
      "  '\\n'\n",
      "  ' \" + 0.009*\"  \" + 0.007*\"amp\" + 0.004*\"work\" + 0.004*\"COVIDー19\" + '\n",
      "  '0.004*\"virus\"')]\n"
     ]
    }
   ],
   "source": [
    "pprint(lda_model.print_topics(num_words=10))"
   ]
  },
  {
   "cell_type": "code",
   "execution_count": 18,
   "metadata": {},
   "outputs": [
    {
     "name": "stderr",
     "output_type": "stream",
     "text": [
      "/Users/akshaykulkarni/opt/anaconda3/lib/python3.7/site-packages/pyLDAvis/_prepare.py:257: FutureWarning: Sorting because non-concatenation axis is not aligned. A future version\n",
      "of pandas will change to not sort by default.\n",
      "\n",
      "To accept the future behavior, pass 'sort=False'.\n",
      "\n",
      "To retain the current behavior and silence the warning, pass 'sort=True'.\n",
      "\n",
      "  return pd.concat([default_term_info] + list(topic_dfs))\n"
     ]
    },
    {
     "data": {
      "text/html": [
       "\n",
       "<link rel=\"stylesheet\" type=\"text/css\" href=\"https://cdn.rawgit.com/bmabey/pyLDAvis/files/ldavis.v1.0.0.css\">\n",
       "\n",
       "\n",
       "<div id=\"ldavis_el645841130871308321824471278\"></div>\n",
       "<script type=\"text/javascript\">\n",
       "\n",
       "var ldavis_el645841130871308321824471278_data = {\"mdsDat\": {\"x\": [0.09050698028828834, 0.060325290191385626, 0.030683405993890845, 0.08993904462770748, 0.09943415281922797, 0.0005952602923608833, -0.04003227869416096, -0.15208787714761798, -0.0896594307501387, -0.08970454762094339], \"y\": [0.06936731917650144, 0.05153977606019217, 0.06148055407969925, -0.10170792564511251, -0.1297792537235881, 0.11855476327405517, 0.0664636601880299, -0.018903678939110127, -0.07766454839907831, -0.03935066607158859], \"topics\": [1, 2, 3, 4, 5, 6, 7, 8, 9, 10], \"cluster\": [1, 1, 1, 1, 1, 1, 1, 1, 1, 1], \"Freq\": [15.55960750579834, 13.374953269958496, 12.713667869567871, 11.856770515441895, 11.176959037780762, 9.044087409973145, 8.769285202026367, 7.693110466003418, 5.502842426300049, 4.308722019195557]}, \"tinfo\": {\"Category\": [\"Default\", \"Default\", \"Default\", \"Default\", \"Default\", \"Default\", \"Default\", \"Default\", \"Default\", \"Default\", \"Default\", \"Default\", \"Default\", \"Default\", \"Default\", \"Default\", \"Default\", \"Default\", \"Default\", \"Default\", \"Default\", \"Default\", \"Default\", \"Default\", \"Default\", \"Default\", \"Default\", \"Default\", \"Default\", \"Default\", \"Topic1\", \"Topic1\", \"Topic1\", \"Topic1\", \"Topic1\", \"Topic1\", \"Topic1\", \"Topic1\", \"Topic1\", \"Topic1\", \"Topic1\", \"Topic1\", \"Topic1\", \"Topic1\", \"Topic1\", \"Topic1\", \"Topic1\", \"Topic1\", \"Topic1\", \"Topic1\", \"Topic1\", \"Topic1\", \"Topic1\", \"Topic1\", \"Topic1\", \"Topic1\", \"Topic1\", \"Topic1\", \"Topic1\", \"Topic1\", \"Topic1\", \"Topic1\", \"Topic1\", \"Topic1\", \"Topic1\", \"Topic1\", \"Topic1\", \"Topic1\", \"Topic1\", \"Topic1\", \"Topic1\", \"Topic1\", \"Topic1\", \"Topic1\", \"Topic1\", \"Topic1\", \"Topic1\", \"Topic1\", \"Topic1\", \"Topic1\", \"Topic1\", \"Topic1\", \"Topic1\", \"Topic1\", \"Topic1\", \"Topic1\", \"Topic1\", \"Topic1\", \"Topic1\", \"Topic1\", \"Topic1\", \"Topic1\", \"Topic1\", \"Topic1\", \"Topic2\", \"Topic2\", \"Topic2\", \"Topic2\", \"Topic2\", \"Topic2\", \"Topic2\", \"Topic2\", \"Topic2\", \"Topic2\", \"Topic2\", \"Topic2\", \"Topic2\", \"Topic2\", \"Topic2\", \"Topic2\", \"Topic2\", \"Topic2\", \"Topic2\", \"Topic2\", \"Topic2\", \"Topic2\", \"Topic2\", \"Topic2\", \"Topic2\", \"Topic2\", \"Topic2\", \"Topic2\", \"Topic2\", \"Topic2\", \"Topic2\", \"Topic2\", \"Topic2\", \"Topic2\", \"Topic2\", \"Topic2\", \"Topic2\", \"Topic2\", \"Topic2\", \"Topic2\", \"Topic2\", \"Topic2\", \"Topic2\", \"Topic2\", \"Topic2\", \"Topic2\", \"Topic2\", \"Topic2\", \"Topic2\", \"Topic2\", \"Topic2\", \"Topic2\", \"Topic2\", \"Topic2\", \"Topic2\", \"Topic2\", \"Topic2\", \"Topic2\", \"Topic2\", \"Topic3\", \"Topic3\", \"Topic3\", \"Topic3\", \"Topic3\", \"Topic3\", \"Topic3\", \"Topic3\", \"Topic3\", \"Topic3\", \"Topic3\", \"Topic3\", \"Topic3\", \"Topic3\", \"Topic3\", \"Topic3\", \"Topic3\", \"Topic3\", \"Topic3\", \"Topic3\", \"Topic3\", \"Topic3\", \"Topic3\", \"Topic3\", \"Topic3\", \"Topic3\", \"Topic3\", \"Topic3\", \"Topic3\", \"Topic3\", \"Topic3\", \"Topic3\", \"Topic3\", \"Topic3\", \"Topic3\", \"Topic3\", \"Topic3\", \"Topic3\", \"Topic3\", \"Topic3\", \"Topic3\", \"Topic3\", \"Topic3\", \"Topic3\", \"Topic3\", \"Topic3\", \"Topic3\", \"Topic3\", \"Topic3\", \"Topic3\", \"Topic3\", \"Topic3\", \"Topic3\", \"Topic3\", \"Topic3\", \"Topic3\", \"Topic3\", \"Topic3\", \"Topic3\", \"Topic3\", \"Topic3\", \"Topic3\", \"Topic3\", \"Topic3\", \"Topic3\", \"Topic3\", \"Topic3\", \"Topic3\", \"Topic3\", \"Topic3\", \"Topic4\", \"Topic4\", \"Topic4\", \"Topic4\", \"Topic4\", \"Topic4\", \"Topic4\", \"Topic4\", \"Topic4\", \"Topic4\", \"Topic4\", \"Topic4\", \"Topic4\", \"Topic4\", \"Topic4\", \"Topic4\", \"Topic4\", \"Topic4\", \"Topic4\", \"Topic4\", \"Topic4\", \"Topic4\", \"Topic4\", \"Topic4\", \"Topic4\", \"Topic4\", \"Topic4\", \"Topic4\", \"Topic4\", \"Topic4\", \"Topic4\", \"Topic4\", \"Topic4\", \"Topic4\", \"Topic4\", \"Topic4\", \"Topic4\", \"Topic4\", \"Topic4\", \"Topic4\", \"Topic4\", \"Topic4\", \"Topic4\", \"Topic4\", \"Topic4\", \"Topic4\", \"Topic4\", \"Topic4\", \"Topic4\", \"Topic4\", \"Topic4\", \"Topic4\", \"Topic4\", \"Topic4\", \"Topic4\", \"Topic4\", \"Topic4\", \"Topic4\", \"Topic4\", \"Topic4\", \"Topic4\", \"Topic4\", \"Topic4\", \"Topic5\", \"Topic5\", \"Topic5\", \"Topic5\", \"Topic5\", \"Topic5\", \"Topic5\", \"Topic5\", \"Topic5\", \"Topic5\", \"Topic5\", \"Topic5\", \"Topic5\", \"Topic5\", \"Topic5\", \"Topic5\", \"Topic5\", \"Topic5\", \"Topic5\", \"Topic5\", \"Topic5\", \"Topic5\", \"Topic5\", \"Topic5\", \"Topic5\", \"Topic5\", \"Topic5\", \"Topic5\", \"Topic5\", \"Topic5\", \"Topic5\", \"Topic5\", \"Topic5\", \"Topic5\", \"Topic5\", \"Topic5\", \"Topic5\", \"Topic5\", \"Topic5\", \"Topic5\", \"Topic5\", \"Topic5\", \"Topic5\", \"Topic5\", \"Topic5\", \"Topic5\", \"Topic5\", \"Topic5\", \"Topic5\", \"Topic5\", \"Topic5\", \"Topic5\", \"Topic5\", \"Topic5\", \"Topic5\", \"Topic5\", \"Topic5\", \"Topic5\", \"Topic5\", \"Topic5\", \"Topic5\", \"Topic5\", \"Topic5\", \"Topic5\", \"Topic5\", \"Topic5\", \"Topic5\", \"Topic6\", \"Topic6\", \"Topic6\", \"Topic6\", \"Topic6\", \"Topic6\", \"Topic6\", \"Topic6\", \"Topic6\", \"Topic6\", \"Topic6\", \"Topic6\", \"Topic6\", \"Topic6\", \"Topic6\", \"Topic6\", \"Topic6\", \"Topic6\", \"Topic6\", \"Topic6\", \"Topic6\", \"Topic6\", \"Topic6\", \"Topic6\", \"Topic6\", \"Topic6\", \"Topic6\", \"Topic6\", \"Topic6\", \"Topic6\", \"Topic6\", \"Topic6\", \"Topic6\", \"Topic6\", \"Topic6\", \"Topic6\", \"Topic6\", \"Topic6\", \"Topic6\", \"Topic6\", \"Topic6\", \"Topic6\", \"Topic6\", \"Topic6\", \"Topic6\", \"Topic6\", \"Topic6\", \"Topic6\", \"Topic6\", \"Topic6\", \"Topic6\", \"Topic6\", \"Topic6\", \"Topic6\", \"Topic6\", \"Topic6\", \"Topic6\", \"Topic6\", \"Topic6\", \"Topic6\", \"Topic6\", \"Topic6\", \"Topic6\", \"Topic6\", \"Topic6\", \"Topic6\", \"Topic6\", \"Topic6\", \"Topic6\", \"Topic6\", \"Topic6\", \"Topic6\", \"Topic6\", \"Topic7\", \"Topic7\", \"Topic7\", \"Topic7\", \"Topic7\", \"Topic7\", \"Topic7\", \"Topic7\", \"Topic7\", \"Topic7\", \"Topic7\", \"Topic7\", \"Topic7\", \"Topic7\", \"Topic7\", \"Topic7\", \"Topic7\", \"Topic7\", \"Topic7\", \"Topic7\", \"Topic7\", \"Topic7\", \"Topic7\", \"Topic7\", \"Topic7\", \"Topic7\", \"Topic7\", \"Topic7\", \"Topic7\", \"Topic7\", \"Topic7\", \"Topic7\", \"Topic7\", \"Topic7\", \"Topic7\", \"Topic7\", \"Topic7\", \"Topic7\", \"Topic7\", \"Topic7\", \"Topic7\", \"Topic7\", \"Topic7\", \"Topic7\", \"Topic7\", \"Topic7\", \"Topic7\", \"Topic7\", \"Topic7\", \"Topic7\", \"Topic7\", \"Topic7\", \"Topic7\", \"Topic7\", \"Topic7\", \"Topic7\", \"Topic7\", \"Topic7\", \"Topic7\", \"Topic7\", \"Topic7\", \"Topic7\", \"Topic7\", \"Topic7\", \"Topic7\", \"Topic7\", \"Topic7\", \"Topic7\", \"Topic7\", \"Topic8\", \"Topic8\", \"Topic8\", \"Topic8\", \"Topic8\", \"Topic8\", \"Topic8\", \"Topic8\", \"Topic8\", \"Topic8\", \"Topic8\", \"Topic8\", \"Topic8\", \"Topic8\", \"Topic8\", \"Topic8\", \"Topic8\", \"Topic8\", \"Topic8\", \"Topic8\", \"Topic8\", \"Topic8\", \"Topic8\", \"Topic8\", \"Topic8\", \"Topic8\", \"Topic8\", \"Topic8\", \"Topic8\", \"Topic8\", \"Topic8\", \"Topic8\", \"Topic8\", \"Topic8\", \"Topic8\", \"Topic8\", \"Topic8\", \"Topic8\", \"Topic8\", \"Topic8\", \"Topic8\", \"Topic8\", \"Topic8\", \"Topic8\", \"Topic8\", \"Topic8\", \"Topic8\", \"Topic8\", \"Topic8\", \"Topic8\", \"Topic8\", \"Topic8\", \"Topic8\", \"Topic8\", \"Topic8\", \"Topic8\", \"Topic8\", \"Topic8\", \"Topic9\", \"Topic9\", \"Topic9\", \"Topic9\", \"Topic9\", \"Topic9\", \"Topic9\", \"Topic9\", \"Topic9\", \"Topic9\", \"Topic9\", \"Topic9\", \"Topic9\", \"Topic9\", \"Topic9\", \"Topic9\", \"Topic9\", \"Topic9\", \"Topic9\", \"Topic9\", \"Topic9\", \"Topic9\", \"Topic9\", \"Topic9\", \"Topic9\", \"Topic9\", \"Topic9\", \"Topic9\", \"Topic9\", \"Topic9\", \"Topic9\", \"Topic9\", \"Topic9\", \"Topic9\", \"Topic9\", \"Topic9\", \"Topic9\", \"Topic9\", \"Topic9\", \"Topic9\", \"Topic9\", \"Topic9\", \"Topic9\", \"Topic9\", \"Topic9\", \"Topic9\", \"Topic9\", \"Topic9\", \"Topic9\", \"Topic9\", \"Topic9\", \"Topic9\", \"Topic9\", \"Topic9\", \"Topic9\", \"Topic9\", \"Topic9\", \"Topic9\", \"Topic9\", \"Topic9\", \"Topic9\", \"Topic9\", \"Topic9\", \"Topic9\", \"Topic9\", \"Topic9\", \"Topic9\", \"Topic10\", \"Topic10\", \"Topic10\", \"Topic10\", \"Topic10\", \"Topic10\", \"Topic10\", \"Topic10\", \"Topic10\", \"Topic10\", \"Topic10\", \"Topic10\", \"Topic10\", \"Topic10\", \"Topic10\", \"Topic10\", \"Topic10\", \"Topic10\", \"Topic10\", \"Topic10\", \"Topic10\", \"Topic10\", \"Topic10\", \"Topic10\", \"Topic10\", \"Topic10\", \"Topic10\", \"Topic10\", \"Topic10\", \"Topic10\", \"Topic10\", \"Topic10\", \"Topic10\", \"Topic10\", \"Topic10\", \"Topic10\", \"Topic10\", \"Topic10\", \"Topic10\", \"Topic10\", \"Topic10\", \"Topic10\", \"Topic10\", \"Topic10\", \"Topic10\", \"Topic10\", \"Topic10\", \"Topic10\", \"Topic10\", \"Topic10\", \"Topic10\"], \"Freq\": [1268.0, 110.0, 941.0, 56.0, 130.0, 54.0, 824.0, 338.0, 46.0, 668.0, 224.0, 56.0, 34.0, 757.0, 38.0, 162.0, 54.0, 23.0, 30.0, 34.0, 27.0, 70.0, 20.0, 20.0, 23.0, 48.0, 71.0, 43.0, 39.0, 40.0, 10.092755317687988, 9.937411308288574, 8.626178741455078, 8.625265121459961, 8.193164825439453, 8.183679580688477, 13.56533145904541, 7.582634449005127, 7.58273983001709, 7.5780181884765625, 7.141066551208496, 6.7030181884765625, 6.2723708152771, 6.265446662902832, 6.265058994293213, 6.098562717437744, 20.988332748413086, 14.197388648986816, 5.660480499267578, 5.2230305671691895, 5.60610294342041, 5.052269458770752, 4.790937900543213, 4.78790807723999, 4.785053730010986, 4.6162896156311035, 4.443281173706055, 4.354509353637695, 4.354448318481445, 4.3542585372924805, 37.53512954711914, 14.995601654052734, 10.538952827453613, 5.65817403793335, 43.406105041503906, 10.70631217956543, 22.146373748779297, 7.5656514167785645, 9.3526029586792, 35.93091583251953, 6.696165561676025, 180.89918518066406, 10.872843742370605, 67.46465301513672, 27.043725967407227, 161.79342651367188, 16.30169677734375, 113.69164276123047, 128.74916076660156, 20.944196701049805, 132.7527618408203, 36.45164108276367, 36.01303482055664, 52.5988655090332, 26.945911407470703, 16.50419044494629, 22.1973819732666, 28.642431259155273, 15.788321495056152, 21.077831268310547, 19.121416091918945, 18.6912899017334, 17.288373947143555, 14.046890258789062, 14.93355655670166, 11.564386367797852, 11.39097785949707, 9.405879020690918, 9.404098510742188, 9.23178482055664, 8.971287727355957, 8.539632797241211, 8.369816780090332, 7.93060827255249, 7.506227016448975, 7.506227016448975, 7.506227016448975, 7.5062255859375, 7.506224155426025, 7.506223201751709, 7.506224155426025, 7.506222248077393, 7.506223201751709, 7.506220817565918, 7.506219863891602, 7.506220817565918, 7.501343727111816, 7.073888778686523, 6.64234733581543, 6.639902114868164, 6.636898040771484, 6.468550205230713, 6.210251331329346, 6.202454090118408, 21.153472900390625, 8.368257522583008, 17.149290084838867, 16.38782501220703, 22.859968185424805, 200.2527618408203, 16.39121437072754, 11.937485694885254, 139.9224853515625, 19.564044952392578, 15.724320411682129, 139.936767578125, 64.1925277709961, 22.699668884277344, 99.01799011230469, 22.715869903564453, 16.23566246032715, 19.916784286499023, 27.456113815307617, 9.0420503616333, 35.597251892089844, 21.27585792541504, 15.874604225158691, 13.695226669311523, 17.148422241210938, 13.344186782836914, 14.548120498657227, 11.17491626739502, 10.603863716125488, 13.068153381347656, 12.090886116027832, 8.234397888183594, 7.1879167556762695, 7.176318645477295, 6.741525650024414, 6.739579200744629, 6.307580947875977, 6.305555820465088, 6.303170204162598, 5.870599746704102, 5.696738243103027, 4.818990707397461, 4.817916393280029, 4.818619251251221, 4.81687593460083, 4.814083576202393, 4.809544563293457, 4.807788848876953, 4.642280101776123, 4.380105018615723, 4.379889011383057, 4.379634857177734, 4.377153396606445, 4.37153434753418, 4.3569254875183105, 4.204401969909668, 4.20384407043457, 4.204013824462891, 4.200579643249512, 7.411169052124023, 19.048269271850586, 6.716721057891846, 8.0361909866333, 8.677631378173828, 11.622304916381836, 18.104726791381836, 10.60911750793457, 8.760669708251953, 8.952052116394043, 10.618138313293457, 12.548563957214355, 12.000225067138672, 11.215075492858887, 159.5117645263672, 15.476438522338867, 11.155510902404785, 145.5511016845703, 131.19827270507812, 29.016313552856445, 28.857555389404297, 12.343262672424316, 99.40153503417969, 32.28104782104492, 24.44142723083496, 29.005029678344727, 26.03173065185547, 13.478175163269043, 11.145849227905273, 18.464693069458008, 14.425032615661621, 12.761301040649414, 10.180033683776855, 33.851539611816406, 12.33275318145752, 15.831469535827637, 13.326064109802246, 14.316990852355957, 12.37004280090332, 11.748526573181152, 12.915441513061523, 12.90605640411377, 9.602818489074707, 9.3614501953125, 8.795844078063965, 8.793791770935059, 8.392718315124512, 8.386421203613281, 7.579049587249756, 7.576960563659668, 7.180540561676025, 7.017279624938965, 6.453300952911377, 6.212472915649414, 6.206599235534668, 6.05006217956543, 5.807471752166748, 5.079681396484375, 4.839250564575195, 4.835696220397949, 4.834856033325195, 4.834975242614746, 4.829658508300781, 7.571027755737305, 4.432181358337402, 4.429142951965332, 4.422347545623779, 4.273738861083984, 4.031667232513428, 4.031537055969238, 6.95985221862793, 5.799407482147217, 9.692342758178711, 8.34294319152832, 409.18731689453125, 13.955124855041504, 12.225580215454102, 16.234603881835938, 12.906601905822754, 6.452986240386963, 10.827160835266113, 11.025179862976074, 99.7813491821289, 82.03958892822266, 98.76981353759766, 29.52155303955078, 39.70592498779297, 7.728415012359619, 19.02436637878418, 44.8591423034668, 16.324241638183594, 13.7042236328125, 15.660679817199707, 16.98391342163086, 12.897618293762207, 12.452421188354492, 9.899893760681152, 16.229656219482422, 12.52746295928955, 11.571892738342285, 11.961690902709961, 9.697930335998535, 9.823756217956543, 45.645904541015625, 17.508052825927734, 12.277322769165039, 7.837098121643066, 7.678915977478027, 6.492652416229248, 6.095243453979492, 5.694809436798096, 5.689579486846924, 7.435760498046875, 4.749417781829834, 4.749039649963379, 4.746377468109131, 4.745936870574951, 4.352707862854004, 4.3525919914245605, 4.351584434509277, 6.482023239135742, 4.325105667114258, 3.956432580947876, 3.956186532974243, 3.9562013149261475, 3.956113338470459, 3.956043004989624, 3.9548757076263428, 3.955623149871826, 3.95186710357666, 3.9474050998687744, 3.9463865756988525, 3.9440083503723145, 4.619266986846924, 5.915004730224609, 13.081902503967285, 456.5655517578125, 6.053057670593262, 5.694057941436768, 5.928703308105469, 7.741596698760986, 16.467681884765625, 141.8418426513672, 7.681046485900879, 16.678205490112305, 13.271687507629395, 68.484619140625, 7.521923542022705, 13.349035263061523, 49.57756423950195, 14.652669906616211, 16.1665096282959, 9.71776008605957, 12.724845886230469, 13.887062072753906, 18.915088653564453, 31.029478073120117, 13.435750961303711, 10.030105590820312, 15.578656196594238, 10.334237098693848, 8.143050193786621, 14.540755271911621, 11.018199920654297, 9.066669464111328, 10.025330543518066, 9.155948638916016, 8.967316627502441, 8.496243476867676, 8.550836563110352, 10.826583862304688, 6.592170715332031, 6.078465938568115, 6.078978061676025, 5.707685947418213, 5.705255031585693, 5.335535526275635, 5.33482027053833, 4.964895725250244, 4.9634785652160645, 4.443943500518799, 11.19041919708252, 4.075530052185059, 4.075402736663818, 3.704342842102051, 3.704209089279175, 3.704134225845337, 3.703735589981079, 3.703824520111084, 3.7038161754608154, 3.701824188232422, 3.7010395526885986, 3.696303606033325, 3.6957168579101562, 3.695087432861328, 3.3326473236083984, 3.3326473236083984, 3.3326473236083984, 3.3326473236083984, 3.332578182220459, 3.332578182220459, 3.332578182220459, 3.332578182220459, 10.49646282196045, 11.898494720458984, 9.499333381652832, 7.781475067138672, 4.0729570388793945, 4.327601432800293, 7.680825233459473, 13.184427261352539, 9.405179023742676, 152.05946350097656, 9.757023811340332, 9.628478050231934, 8.479954719543457, 6.0789384841918945, 14.114022254943848, 8.7515230178833, 10.061176300048828, 57.560672760009766, 11.522147178649902, 8.022994041442871, 71.14176940917969, 9.65383529663086, 11.616769790649414, 14.747492790222168, 15.391458511352539, 43.313533782958984, 19.84417152404785, 9.613698959350586, 39.7009391784668, 11.526074409484863, 16.34635353088379, 10.622974395751953, 10.908455848693848, 9.729108810424805, 13.067190170288086, 9.732636451721191, 11.761384963989258, 10.0656099319458, 9.775240898132324, 9.65792179107666, 9.547748565673828, 7.918773651123047, 6.9545063972473145, 6.953198432922363, 6.943417072296143, 6.806629657745361, 4.8076677322387695, 4.660446643829346, 4.437108516693115, 4.4373698234558105, 4.435514450073242, 4.066946506500244, 4.065794944763184, 4.064927577972412, 4.0647053718566895, 3.6970460414886475, 3.6969666481018066, 3.696851968765259, 3.694800853729248, 3.694410562515259, 3.6905441284179688, 7.029230117797852, 3.325822114944458, 3.325822114944458, 3.325822114944458, 3.325822114944458, 3.3258163928985596, 3.325684070587158, 3.3257224559783936, 3.3250184059143066, 6.803006172180176, 5.021514415740967, 6.040978908538818, 4.795870304107666, 4.7937421798706055, 8.881519317626953, 11.290295600891113, 7.696465015411377, 12.837306022644043, 7.319362163543701, 5.1654462814331055, 79.06379699707031, 6.781960964202881, 9.380311012268066, 100.32038116455078, 10.732111930847168, 20.040672302246094, 15.024378776550293, 8.951742172241211, 92.16934204101562, 32.62349319458008, 78.1829605102539, 7.924257755279541, 10.487228393554688, 11.080594062805176, 29.139259338378906, 9.160198211669922, 39.96720886230469, 11.756196975708008, 12.7847900390625, 16.55933952331543, 9.810572624206543, 23.009321212768555, 13.893163681030273, 9.119302749633789, 10.948952674865723, 9.071885108947754, 8.513941764831543, 8.121052742004395, 55.81127166748047, 53.348793029785156, 19.939373016357422, 19.94080924987793, 13.931665420532227, 11.287871360778809, 9.360877990722656, 102.59351348876953, 6.562083721160889, 6.562009811401367, 6.561620235443115, 6.242465496063232, 6.161409854888916, 5.760046005249023, 5.356602191925049, 4.797611236572266, 4.6391825675964355, 7.754077911376953, 4.398397445678711, 4.395811080932617, 4.3952789306640625, 4.394312381744385, 4.235785961151123, 4.0794878005981445, 3.998392105102539, 3.998392105102539, 3.998392105102539, 3.998392105102539, 3.998392105102539, 3.998392105102539, 3.998392105102539, 29.091886520385742, 3.998392105102539, 19.334667205810547, 13.165847778320312, 6.5853681564331055, 21.575443267822266, 9.298674583435059, 30.613798141479492, 10.774896621704102, 13.807604789733887, 11.388497352600098, 19.729938507080078, 19.750991821289062, 14.214213371276855, 10.319269180297852, 70.13983154296875, 43.657623291015625, 46.37051773071289, 37.35822677612305, 14.987520217895508, 14.455794334411621, 21.002290725708008, 17.58416748046875, 14.942143440246582, 19.668458938598633, 11.260066986083984, 11.047722816467285, 22.610675811767578, 6.612964153289795, 3.59478759765625, 3.5924928188323975, 3.5889885425567627, 3.44917893409729, 3.2344095706939697, 3.2344095706939697, 3.2344095706939697, 3.2344095706939697, 3.2344095706939697, 3.233934164047241, 3.2337019443511963, 3.2335853576660156, 3.089428663253784, 2.7285585403442383, 2.727550983428955, 2.5874836444854736, 2.5874781608581543, 2.5874764919281006, 4.270057678222656, 2.3707849979400635, 2.3704516887664795, 2.3679749965667725, 2.3642425537109375, 2.361309051513672, 7.251678466796875, 2.010704517364502, 2.010704517364502, 2.01065731048584, 2.0106570720672607, 21.352720260620117, 18.593563079833984, 21.913291931152344, 5.320066928863525, 48.715309143066406, 5.1721673011779785, 4.668712139129639, 8.383539199829102, 8.020315170288086, 12.060181617736816, 22.82185935974121, 6.76082181930542, 8.314922332763672, 83.31439971923828, 8.50455379486084, 4.89187479019165, 6.448567867279053, 5.446795463562012, 22.928081512451172, 4.589208602905273, 11.860610008239746, 4.726960182189941, 9.838770866394043, 21.85853385925293, 8.436726570129395, 6.158613204956055, 10.762917518615723, 8.468718528747559, 17.668834686279297, 8.521400451660156, 6.5550217628479, 7.711929798126221, 6.6306233406066895, 6.335410118103027, 7.676355838775635, 7.699746131896973, 4.902200222015381, 4.764349937438965, 4.4232587814331055, 4.473963737487793, 4.146264553070068, 4.146232604980469, 4.146229267120361, 4.146199703216553, 4.084511756896973, 3.741898775100708, 3.400949001312256, 3.3997244834899902, 3.399150848388672, 3.0611135959625244, 3.0611135959625244, 3.061023235321045, 3.061023235321045, 3.061023235321045, 3.061023235321045, 3.0606937408447266, 2.9248809814453125, 2.923762559890747, 3.0323903560638428, 2.584336519241333, 2.5845999717712402, 2.583984613418579, 2.582988977432251, 2.582723617553711, 4.897839069366455, 2.2437498569488525, 5.13441801071167, 4.669322967529297, 3.9996860027313232, 7.013060092926025, 4.235383987426758, 23.182022094726562, 9.441349029541016, 42.4393196105957, 4.812034606933594, 5.09337043762207, 5.2091450691223145, 6.638477802276611, 16.532045364379883, 7.44279670715332, 4.98996639251709, 4.0840277671813965, 5.816514015197754, 7.498362064361572, 4.995387077331543, 5.577460289001465, 5.028812408447266], \"Term\": [\"\\n \", \"case\", \"COVID19\", \"confirm\", \"QuarantineLife\", \"error\", \"covid19\", \"  \", \"\\ud83e\\udd23\", \"coronavirus\", \"Coronavirus\", \"StayTheFHome\", \"death\", \"\\n\\n \", \"coronapocolypse\", \"CoronavirusOutbreak\", \"country\", \"\\u2705\", \"ShutItDown\", \"number\", \"$\", \"\\ufe0f\", \"total\", \"Tanzania\", \"report\", \"safe\", \"stay\", \"new\", \"Italy\", \"support\", \"p.m.\", \"\\u27a1\", \"space\", \"cat\", \"webinar\", \"laugh\", \"staysafe\", \"team\", \"immune\", \"build\", \"uk\", \"Healthcare\", \"usual\", \"moron\", \"limited\", \"manage\", \"healthy\", \"\\u2764\", \"worsen\", \"basic\", \"wish\", \"\\u2b07\", \"torch\", \"solidarity\", \"concerned\", \"feature\", \"\\ud83c\\udfce\", \"challenging\", \"\\ud83d\\udca5\", \"bekind\", \"safe\", \"Monday\", \"safety\", \"quickly\", \"stay\", \"date\", \"share\", \"student\", \"fact\", \"\\ufe0f\", \"college\", \"\\n\\n \", \"concern\", \"Coronavirus\", \"help\", \"COVID19\", \"stayathome\", \"coronavirus\", \"covid19\", \"health\", \"\\n \", \"amp\", \"Covid19\", \"  \", \"pandemic\", \"fight\", \"Corona\", \"CoronavirusOutbreak\", \"covid\\u30fc19uk\", \"home\", \"virus\", \"China\", \"time\", \"thank\", \"womensmonthzim\", \"lie\", \"\\ud83d\\udc4f\", \"\\ud83e\\uddfb\", \"\\ud83d\\udcaf\", \"\\u2640\", \"\\ud83d\\udea8\", \"donation\", \"\\ud83e\\udd37\", \"industry\", \"GenerationEquality\", \"Covid19zw\", \"@unwomenzw\", \"@ShamwariyeMwana\", \"womenzw\", \"@WCOZIMBABWE\", \"@gmczimbabwe\", \"coronaviruszw\", \"@NLinZimbabwe\", \"@YoungWomenInst\", \"coronazw\", \"@SHDFZim\", \"vs\", \"\\ud83e\\udd14\", \"@Pachoto2014\", \"foot\", \"\\ud83c\\udf0d\", \"bigdata\", \"generous\", \"model\", \"trump\", \"fail\", \"travel\", \"thing\", \"Trump\", \"\\n\\n \", \"symptom\", \"play\", \"COVID19\", \"update\", \"year\", \"\\n \", \"  \", \"good\", \"covid19\", \"\\ufe0f\", \"USA\", \"pandemic\", \"Coronavirus\", \"mean\", \"coronavirus\", \"Covid19\", \"Corona\", \"today\", \"QuarantineLife\", \"SocialDistancing\", \"amp\", \"WashYourHands\", \"want\", \"covidtoronto\", \"besafe\", \"SafeHands\", \"SAARC\", \"data\", \"excellent\", \"effectively\", \"@NYGovCuomo\", \"handwashing\", \"\\ud83d\\udc9a\", \"BadPonyMedia\", \"remote\", \"remoteworke\", \"Turkey\", \"shelf\", \"heart\", \"program\", \"coronavirusoutbreak\", \"count\", \"    \", \"afternoon\", \"contribute\", \"Iceland\", \"NatureVsMoney\", \"UBI\", \"Isolation\", \"trigger\", \"Toronto\", \"point\", \"mass\", \"trading\", \"covidontario\", \"employee\", \"question\", \"Korea\", \"info\", \"social\", \"friend\", \"resource\", \"combat\", \"offer\", \"worker\", \"real\", \"distancing\", \"covid19\", \"watch\", \"order\", \"\\n\\n \", \"coronavirus\", \"home\", \"work\", \"StayAtHome\", \"COVID19\", \"Covid19\", \"pandemic\", \"amp\", \"COVID\\u30fc19\", \"look\", \"market\", \"time\", \"today\", \"COVID-19\", \"information\", \"\\n \", \"use\", \"Coronavirus\", \"stay\", \"QuarantineLife\", \"need\", \"\\ud83d\\udc47\", \"COVID19Pandemic\", \"w/\", \"line\", \"VirusCorona\", \"cover\", \"11\", \"recover\", \"fee\", \"highriskcovid19\", \"extra\", \"biker\", \"war\", \"Disney\", \"SARS_COV_2\", \"appear\", \"StatusQuo\", \"\\ud83d\\ude0a\", \"JoeBiden\", \"MorningJoe\", \"trillion\", \"UBIStimulus\", \"meet\", \"responsible\", \"difficult\", \"CHINA\", \"DonaldTrump\", \"remotely\", \"Democrats\", \"koronavirus\", \"RuleOfLaw\", \"airport\", \"confinement\", \"BernieSanders\", \"\\ud83d\\udc69\", \"\\n \", \"covid\", \"ncov2019\", \"try\", \"~\", \"meme\", \"mask\", \"government\", \"covid19\", \"coronavirus\", \"COVID19\", \"amp\", \"  \", \"feel\", \"work\", \"\\n\\n \", \"virus\", \"protect\", \"time\", \"COVID\\u30fc19\", \"quarantine\", \"like\", \"testing\", \"Coronavirus\", \"CoronaVirusUpdates\", \"CoronaVirus\", \"Covid19\", \"affect\", \"QuarantineLife\", \"\\ud83e\\udd23\", \"\\ud83d\\uded1\", \"\\ud83e\\udd2c\", \"StPatricksDay\", \"TrumpLiesAboutCoronavirus\", \"guideline\", \"road\", \"\\ud83e\\udd7a\", \"minimum\", \"match\", \"\\ud83d\\udc1d\", \"WWG1WGA\", \"course\", \"twitter\", \"longer\", \"STEM\", \"TrumpIsTheWORSTPresidentEVER\", \"study\", \"realestate\", \"precautionary\", \"strain\", \"StatePark\", \"Verily\", \"ordinary\", \"giant\", \"alive\", \"City\", \"meat\", \"expose\", \"monday\", \"respect\", \"solution\", \"lead\", \"\\n \", \"panicshopping\", \"MondayMotivaton\", \"COVID19US\", \"funny\", \"\\ud83d\\udc47\", \"COVID19\", \"reality\", \"thank\", \"1\", \"coronavirus\", \"BBC\", \"world\", \"covid19\", \"CoronaVirus\", \"time\", \"want\", \"spread\", \"CoronaVirusUpdates\", \"Covid19\", \"\\n\\n \", \"home\", \"use\", \"CoronavirusOutbreak\", \"let\", \"coronaviruskenya\", \"  \", \"COVID\\u30fc19\", \"covid\\u30fc19uk\", \"QuarantineLife\", \"need\", \"virus\", \"StayTheFHome\", \"SocialDistancing\", \"isolate\", \"CoronaVirusItaly\", \"guidance\", \"coronaviruschina\", \"CoronaInfoCH\", \"picture\", \"idiot\", \"schedule\", \"bin\", \"adapt\", \"scale\", \"\\u26a0\", \"carry\", \"distancelearning\", \"learnfromhome\", \"client\", \"rant\", \"Venezuela\", \"physician\", \"Sindh\", \"blame\", \"severe\", \"WuhanCoronavius\", \"sore\", \"billion\", \"apacares\", \"positively\", \"thinking\", \"advocate\", \"AirlineIndustry\", \"TrendER\", \"BizAfrica\", \"TrendsReport\", \"self\", \"message\", \"money\", \"CDC\", \"EconomicImpact\", \"member\", \"service\", \"impact\", \"expect\", \"covid19\", \"remember\", \"PublicHealth\", \"CoronavirusUpdates\", \"onlinelearning\", \"2020\", \"infect\", \"2019ncov\", \"  \", \"community\", \"ChinaVirus\", \"coronavirus\", \"economy\", \"positive\", \"help\", \"China\", \"\\n\\n \", \"CoronavirusOutbreak\", \"start\", \"\\n \", \"come\", \"amp\", \"CoronavirusPandemic\", \"need\", \"great\", \"Coronavirus\", \"new\", \"COVID19\", \"pandemic\", \"good\", \"|\", \"paper\", \"toilet\", \"CoronaVirusIran\", \"Dr\", \"housing\", \"Taiwan\", \"ship\", \"@BBCNews\", \"elderly\", \"door\", \"staythefhome\", \"Wednesday\", \"contract\", \"sale\", \"ago\", \"Miami\", \"organiser\", \"cute\", \"qanda\", \"InfectiousDisease\", \"donkey\", \"local\", \"AdnanKhan\", \"decline\", \"platelet\", \"@ErummKhan\", \"award\", \"over-75\", \"Military\", \"instruction\", \"cause\", \"airline\", \"court\", \"house\", \"girl\", \"professional\", \"hope\", \"delay\", \"\\n  \", \"mentalhealth\", \"photo\", \"  \", \"toiletpaper\", \"plan\", \"coronavirus\", \"economy\", \"day\", \"week\", \"healthcare\", \"COVID19\", \"CoronavirusOutbreak\", \"covid19\", \"hospital\", \"patient\", \"read\", \"Coronavirus\", \"follow\", \"\\n\\n \", \"close\", \"CoronavirusPandemic\", \"QuarantineLife\", \"UK\", \"\\n \", \"Covid19\", \"test\", \"COVID\\u30fc19\", \"work\", \"virus\", \"health\", \"confirm\", \"error\", \"Tanzania\", \"total\", \"Somalia\", \"Liberia\", \"France\", \"case\", \"surpass\", \"28\", \"continent\", \"114\", \"350\", \"\\u2665\", \"ResidentEvil\", \"park\", \"Delhi\", \"record\", \"Manila\", \"StopTheSpread\", \"\\ud83c\\uddf3\", \"common\", \"president\", \"Odisha\", \"Park\", \"winterregino\", \"ncrlockdown\", \"Resort\", \"Villas\", \"ph\", \"instagramers\", \"death\", \"prayforluzonphils\", \"report\", \"Pakistan\", \"Kerala\", \"number\", \"Spain\", \"country\", \"Africa\", \"India\", \"breaking\", \"Italy\", \"new\", \"positive\", \"late\", \"COVID19\", \"coronavirus\", \"covid19\", \"\\n\\n \", \"CoronaVirusUpdates\", \"China\", \"Coronavirus\", \"CoronavirusOutbreak\", \"COVID\\u30fc19\", \"\\n \", \"CoronaVirus\", \"  \", \"\\u2705\", \"ToiletPaperPanic\", \"COVID19India\", \"fun\", \"clearly\", \"stayhomesavelives\", \"sermon\", \"donkeyoftheday\", \"breakfastclub\", \"@cthagod\", \"@BishopJakes\", \"Mart\", \"Lucknow\", \"Wisconsin\", \"County\", \"sell\", \"hair\", \"edh\", \"cedh\", \"mtg\", \"beautiful\", \"nycschools\", \"relax\", \"breathe\", \"addition\", \"corrupt\", \"CoronaAlert\", \"@GovKemp\", \"georgia\", \"nottheausgp\", \"ipl2020\", \"ShutItDown\", \"$\", \"coronapocolypse\", \"DowJones\", \"QuarantineLife\", \"age\", \"Sweden\", \"MondayMorning\", \"control\", \"\\ud83d\\ude02\", \"StayTheFHome\", \"border\", \"HighRiskCovid19\", \"COVID19\", \"StayHome\", \"CoronaOutbreak\", \"CoronaVirusOutbreak\", \"nycshutdown\", \"CoronavirusOutbreak\", \"mondaythoughts\", \"COVID2019\", \"FlattenTheCurve\", \"SocialDistancing\", \"coronavirus\", \"CoronavirusPandemic\", \"love\", \"COVID\\u30fc19\", \"people\", \"\\n\\n \", \"CoronaVirus\", \"Covid_19\", \"let\", \"close\", \"social\", \"Covid19\", \"  \", \"Duterte\", \"York\", \"ride\", \"Washyourhands\", \"Stayhealthy\", \"Staywell\", \"Stayhome\", \"Keepcalm\", \"Philippines\", \"spend\", \"Business\", \"smile\", \"island\", \"https://t.co/sUKnLI6uym\", \"uninformed\", \"CUSTOMER\", \"HES\", \"https://t.co/I6o4UwmTkq\", \"\\ud83d\\udce3\", \"GalaxyS20\", \"\\ud83d\\udc4a\", \"Jamaica\", \"prank\", \"freeze\", \"Times\", \"ok\", \"neighbor\", \"port\", \"trial\", \"husband\", \"M\", \"PSA\", \"doyourpart\", \"\\ud83d\\ude37\", \"CORONAVIRUS\", \"Coronavirus\", \"support\", \"COVID19\", \"Quarantine\", \"\\ud83e\\udda0\", \"New\", \"update\", \"\\n\\n \", \"Corona\", \"shut\", \"advice\", \"Covid19\", \"\\n \", \"CoronaVirus\", \"covid19\", \"  \"], \"Total\": [1268.0, 110.0, 941.0, 56.0, 130.0, 54.0, 824.0, 338.0, 46.0, 668.0, 224.0, 56.0, 34.0, 757.0, 38.0, 162.0, 54.0, 23.0, 30.0, 34.0, 27.0, 70.0, 20.0, 20.0, 23.0, 48.0, 71.0, 43.0, 39.0, 40.0, 10.741721153259277, 10.585807800292969, 9.274539947509766, 9.273662567138672, 8.841367721557617, 8.83222484588623, 14.64246940612793, 8.23094654083252, 8.231080055236816, 8.227340698242188, 7.78950834274292, 7.351524829864502, 6.920619010925293, 6.913956642150879, 6.913559436798096, 6.747145652770996, 23.296253204345703, 15.81230640411377, 6.308841228485107, 5.872004985809326, 6.310631275177002, 5.701183795928955, 5.439129829406738, 5.436211585998535, 5.433464050292969, 5.264914512634277, 5.091497421264648, 5.002699851989746, 5.0026421546936035, 5.002457618713379, 48.41714859008789, 18.909242630004883, 12.987557411193848, 6.647233009338379, 71.56535339355469, 14.332419395446777, 34.926170349121094, 9.470406532287598, 12.311505317687988, 70.94117736816406, 8.2218599319458, 757.4315185546875, 15.979167938232422, 224.42919921875, 61.646846771240234, 941.5533447265625, 29.540014266967773, 668.0867309570312, 824.90478515625, 52.360313415527344, 1268.30029296875, 140.18507385253906, 159.8275909423828, 338.7017517089844, 94.9520263671875, 38.00102615356445, 73.69940948486328, 162.46600341796875, 41.422054290771484, 86.43281555175781, 68.57467651367188, 68.2846450805664, 82.62244415283203, 40.251888275146484, 15.582735061645508, 12.214139938354492, 12.042145729064941, 10.05493450164795, 10.053170204162598, 9.882546424865723, 9.621081352233887, 9.188724517822266, 9.018990516662598, 8.58090877532959, 8.155314445495605, 8.155315399169922, 8.155315399169922, 8.155315399169922, 8.155314445495605, 8.155314445495605, 8.155315399169922, 8.155314445495605, 8.155315399169922, 8.155313491821289, 8.155313491821289, 8.155314445495605, 8.151156425476074, 7.722954273223877, 7.291356086730957, 7.288987159729004, 7.286208629608154, 7.118231296539307, 6.859260082244873, 6.85175085067749, 25.246009826660156, 9.418106079101562, 24.194698333740234, 23.138750076293945, 37.35929489135742, 757.4315185546875, 25.121061325073242, 16.675582885742188, 941.5533447265625, 40.72998809814453, 28.13081169128418, 1268.30029296875, 338.7017517089844, 58.73057556152344, 824.90478515625, 70.94117736816406, 40.75093460083008, 94.9520263671875, 224.42919921875, 13.52575397491455, 668.0867309570312, 159.8275909423828, 73.69940948486328, 46.471038818359375, 130.14309692382812, 66.72301483154297, 140.18507385253906, 32.418006896972656, 27.075468063354492, 13.716219902038574, 12.738988876342773, 8.882353782653809, 7.835758209228516, 7.831264972686768, 7.389612674713135, 7.3882246017456055, 6.9554123878479, 6.953446865081787, 6.951164245605469, 6.518326759338379, 6.344579696655273, 5.466752529144287, 5.465734481811523, 5.466609954833984, 5.464858055114746, 5.462032318115234, 5.457625389099121, 5.45598030090332, 5.29151725769043, 5.027826309204102, 5.027616500854492, 5.027389049530029, 5.024985313415527, 5.019852638244629, 5.0054779052734375, 4.852341651916504, 4.85222864151001, 4.852527141571045, 4.848634719848633, 8.88940143585205, 27.872426986694336, 8.436055183410645, 10.563679695129395, 11.673702239990234, 16.916526794433594, 29.665515899658203, 15.246536254882812, 11.99799633026123, 12.519118309020996, 16.206369400024414, 20.584604263305664, 19.495317459106445, 17.751924514770508, 824.90478515625, 28.969669342041016, 18.15236473083496, 757.4315185546875, 668.0867309570312, 86.43281555175781, 89.7974853515625, 22.196924209594727, 941.5533447265625, 159.8275909423828, 94.9520263671875, 140.18507385253906, 115.4147720336914, 31.481426239013672, 21.135700225830078, 82.62244415283203, 46.471038818359375, 33.59587478637695, 18.948551177978516, 1268.30029296875, 38.41117858886719, 224.42919921875, 71.56535339355469, 130.14309692382812, 61.81542205810547, 35.94163131713867, 13.569710731506348, 13.560611724853516, 10.259110450744629, 10.015706062316895, 9.450297355651855, 9.448244094848633, 9.047175407409668, 9.040901184082031, 8.23344898223877, 8.231642723083496, 7.834700107574463, 7.673919677734375, 7.108081340789795, 6.86668062210083, 6.861052513122559, 6.705715179443359, 6.461688041687012, 5.736249923706055, 5.493548393249512, 5.490067005157471, 5.4892168045043945, 5.48936653137207, 5.4846978187561035, 8.634236335754395, 5.0865044593811035, 5.084212779998779, 5.077072620391846, 4.928658962249756, 4.685826778411865, 4.685705184936523, 8.107107162475586, 6.893954753875732, 12.089532852172852, 10.407844543457031, 1268.30029296875, 20.678359985351562, 17.925979614257812, 26.233469009399414, 20.478849411010742, 8.188576698303223, 17.148027420043945, 18.053041458129883, 824.90478515625, 668.0867309570312, 941.5533447265625, 140.18507385253906, 338.7017517089844, 11.232009887695312, 89.7974853515625, 757.4315185546875, 68.57467651367188, 47.110328674316406, 82.62244415283203, 115.4147720336914, 51.824954986572266, 46.721866607666016, 20.852365493774414, 224.42919921875, 69.65371704101562, 65.49452209472656, 159.8275909423828, 28.070587158203125, 130.14309692382812, 46.30448913574219, 18.163602828979492, 12.93287467956543, 8.492877006530762, 8.337242126464844, 7.1482834815979, 6.750869274139404, 6.350598335266113, 6.345604419708252, 8.461856842041016, 5.404979705810547, 5.404726028442383, 5.402093410491943, 5.401961326599121, 5.008304595947266, 5.008192539215088, 5.007265090942383, 7.482149600982666, 5.005871772766113, 4.611982822418213, 4.611744403839111, 4.611767292022705, 4.611674785614014, 4.611618995666504, 4.610499382019043, 4.611617565155029, 4.607599258422852, 4.603325366973877, 4.602323055267334, 4.6000494956970215, 5.393212795257568, 6.995079517364502, 18.075450897216797, 1268.30029296875, 7.631841659545898, 7.244483470916748, 7.640260219573975, 11.469514846801758, 35.94163131713867, 941.5533447265625, 12.294412612915039, 40.251888275146484, 34.39686965942383, 668.0867309570312, 14.27541732788086, 46.00594711303711, 824.90478515625, 65.49452209472656, 82.62244415283203, 27.075468063354492, 50.777565002441406, 69.65371704101562, 159.8275909423828, 757.4315185546875, 86.43281555175781, 38.41117858886719, 162.46600341796875, 55.71337890625, 20.70165252685547, 338.7017517089844, 115.4147720336914, 41.422054290771484, 130.14309692382812, 61.81542205810547, 68.57467651367188, 56.75214767456055, 66.72301483154297, 11.487471580505371, 7.254256725311279, 6.738718509674072, 6.739299297332764, 6.3679680824279785, 6.365662097930908, 5.995818138122559, 5.995131492614746, 5.625189781188965, 5.6246514320373535, 5.1047844886779785, 12.905881881713867, 4.735744953155518, 4.7356719970703125, 4.364556312561035, 4.3644280433654785, 4.364355087280273, 4.363973617553711, 4.364078521728516, 4.364073753356934, 4.362133979797363, 4.361392498016357, 4.35687255859375, 4.356363773345947, 4.355713367462158, 3.992856502532959, 3.992856502532959, 3.992856502532959, 3.992856502532959, 3.992790699005127, 3.992790699005127, 3.992790699005127, 3.992790699005127, 14.526535034179688, 17.654783248901367, 13.803707122802734, 11.128993034362793, 5.105255126953125, 5.505743026733398, 11.347823143005371, 23.149091720581055, 15.072159767150879, 824.90478515625, 17.47430992126465, 17.611425399780273, 14.74328899383545, 9.107924461364746, 33.68085479736328, 16.799959182739258, 21.104429244995117, 338.7017517089844, 26.771942138671875, 15.176101684570312, 668.0867309570312, 22.1928768157959, 33.614681243896484, 61.646846771240234, 68.2846450805664, 757.4315185546875, 162.46600341796875, 24.784244537353516, 1268.30029296875, 41.81365203857422, 140.18507385253906, 51.50343322753906, 61.81542205810547, 36.84101104736328, 224.42919921875, 43.64518737792969, 941.5533447265625, 94.9520263671875, 58.73057556152344, 42.85996627807617, 10.2088041305542, 8.579301834106445, 7.61491584777832, 7.613653182983398, 7.604321479797363, 7.467169761657715, 5.468113899230957, 5.321011066436768, 5.097562313079834, 5.097894191741943, 5.096104145050049, 4.727376461029053, 4.726215362548828, 4.7253947257995605, 4.725231170654297, 4.357393264770508, 4.357319355010986, 4.35720682144165, 4.35524320602417, 4.354861259460449, 4.35115909576416, 8.410133361816406, 3.986182689666748, 3.986182689666748, 3.986182689666748, 3.986182689666748, 3.986176013946533, 3.986051082611084, 3.9861092567443848, 3.985429048538208, 8.301209449768066, 6.095010757446289, 7.4438066482543945, 5.868114948272705, 5.868776798248291, 11.99425220489502, 16.6174259185791, 10.68773365020752, 20.456987380981445, 10.354217529296875, 6.95805025100708, 338.7017517089844, 10.303853034973145, 17.816387176513672, 668.0867309570312, 22.1928768157959, 66.25165557861328, 41.534576416015625, 17.640966415405273, 941.5533447265625, 162.46600341796875, 824.90478515625, 14.926482200622559, 25.92366600036621, 30.53313446044922, 224.42919921875, 21.265913009643555, 757.4315185546875, 40.54965591430664, 51.50343322753906, 130.14309692382812, 30.051057815551758, 1268.30029296875, 159.8275909423828, 30.51922035217285, 115.4147720336914, 89.7974853515625, 68.57467651367188, 52.360313415527344, 56.486961364746094, 54.00492858886719, 20.59462547302246, 20.597623825073242, 14.587872505187988, 11.942930221557617, 10.018071174621582, 110.10285949707031, 7.216861724853516, 7.216829776763916, 7.21651029586792, 6.897571086883545, 6.816187858581543, 6.414848804473877, 6.012442111968994, 5.452632904052734, 5.294564247131348, 8.850465774536133, 5.053667068481445, 5.050811290740967, 5.050302028656006, 5.049317359924316, 4.8926777839660645, 4.734658718109131, 4.653172969818115, 4.653172969818115, 4.653172969818115, 4.653172969818115, 4.653172969818115, 4.653172969818115, 4.653172969818115, 34.76819610595703, 4.653172969818115, 23.265016555786133, 16.616710662841797, 8.178997993469238, 34.816192626953125, 12.855786323547363, 54.30723190307617, 15.445916175842285, 22.385568618774414, 18.33492660522461, 39.99382781982422, 43.64518737792969, 33.614681243896484, 22.48748779296875, 941.5533447265625, 668.0867309570312, 824.90478515625, 757.4315185546875, 69.65371704101562, 68.2846450805664, 224.42919921875, 162.46600341796875, 115.4147720336914, 1268.30029296875, 65.49452209472656, 338.7017517089844, 23.27566146850586, 7.281309127807617, 4.257037162780762, 4.254842281341553, 4.251495838165283, 4.111936092376709, 3.896641492843628, 3.896641492843628, 3.896641492843628, 3.896641492843628, 3.896641492843628, 3.896226406097412, 3.896057367324829, 3.8959672451019287, 3.751868724822998, 3.3910441398620605, 3.390061855316162, 3.2498619556427, 3.249861717224121, 3.249861717224121, 5.373448848724365, 3.0330970287323, 3.0327577590942383, 3.0303452014923096, 3.027012586593628, 3.02408504486084, 9.487391471862793, 2.672938346862793, 2.672938346862793, 2.672898769378662, 2.672898769378662, 30.435338973999023, 27.4295597076416, 38.477500915527344, 8.0228853225708, 130.14309692382812, 7.996742248535156, 7.107619762420654, 14.921167373657227, 14.269320487976074, 24.352062225341797, 56.75214767456055, 12.029646873474121, 16.261354446411133, 941.5533447265625, 22.025146484375, 8.182665824890137, 14.157964706420898, 10.346288681030273, 162.46600341796875, 7.58005952835083, 53.11100769042969, 8.872465133666992, 66.72301483154297, 668.0867309570312, 51.50343322753906, 20.442384719848633, 115.4147720336914, 59.714691162109375, 757.4315185546875, 65.49452209472656, 27.299943923950195, 55.71337890625, 40.54965591430664, 29.665515899658203, 159.8275909423828, 338.7017517089844, 5.567996978759766, 5.432104110717773, 5.089235305786133, 5.164189338684082, 4.8215012550354, 4.821508407592773, 4.8215107917785645, 4.8215203285217285, 4.750350475311279, 4.4078192710876465, 4.066821098327637, 4.065637588500977, 4.065121650695801, 3.7269392013549805, 3.7269392013549805, 3.726874351501465, 3.726874351501465, 3.726874351501465, 3.726874351501465, 3.7265892028808594, 3.5907320976257324, 3.590141773223877, 3.730930805206299, 3.2502188682556152, 3.250638723373413, 3.2500123977661133, 3.2489447593688965, 3.2487525939941406, 6.3372578620910645, 2.9096264839172363, 6.711485862731934, 7.285770893096924, 6.16679048538208, 18.856611251831055, 7.904789924621582, 224.42919921875, 40.65983581542969, 941.5533447265625, 10.756708145141602, 12.625730514526367, 13.724754333496094, 40.72998809814453, 757.4315185546875, 73.69940948486328, 21.596546173095703, 13.976322174072266, 159.8275909423828, 1268.30029296875, 65.49452209472656, 824.90478515625, 338.7017517089844], \"loglift\": [30.0, 29.0, 28.0, 27.0, 26.0, 25.0, 24.0, 23.0, 22.0, 21.0, 20.0, 19.0, 18.0, 17.0, 16.0, 15.0, 14.0, 13.0, 12.0, 11.0, 10.0, 9.0, 8.0, 7.0, 6.0, 5.0, 4.0, 3.0, 2.0, 1.0, 1.798200011253357, 1.7972999811172485, 1.7879999876022339, 1.7879999876022339, 1.7843999862670898, 1.7841999530792236, 1.78410005569458, 1.778499960899353, 1.77839994430542, 1.7783000469207764, 1.7735999822616577, 1.7681000232696533, 1.7620999813079834, 1.7619999647140503, 1.7619999647140503, 1.7594000101089478, 1.7561999559402466, 1.7527999877929688, 1.7519999742507935, 1.743399977684021, 1.7421000003814697, 1.7396999597549438, 1.7336000204086304, 1.7335000038146973, 1.7333999872207642, 1.7289999723434448, 1.7243000268936157, 1.7216999530792236, 1.7216999530792236, 1.7216999530792236, 1.6059000492095947, 1.628600001335144, 1.6516000032424927, 1.6993999481201172, 1.3604999780654907, 1.5687999725341797, 1.4048999547958374, 1.6359000205993652, 1.5856000185012817, 1.1801999807357788, 1.6552000045776367, 0.4284999966621399, 1.4754999876022339, 0.6585000157356262, 1.0364999771118164, 0.09929999709129333, 1.2660000324249268, 0.08959999680519104, 0.003100000089034438, 0.9441999793052673, -0.39649999141693115, 0.5134999752044678, 0.3702999949455261, -0.0019000000320374966, 0.6010000109672546, 1.0264999866485596, 0.6604999899864197, 0.12489999830722809, 0.8959000110626221, 0.44929999113082886, 0.5834000110626221, 0.5648999810218811, 0.2962000072002411, 0.807699978351593, 1.9692000150680542, 1.9571000337600708, 1.9562000036239624, 1.945099949836731, 1.9450000524520874, 1.9436999559402466, 1.9419000148773193, 1.9385000467300415, 1.9371000528335571, 1.9329999685287476, 1.9287999868392944, 1.9287999868392944, 1.9287999868392944, 1.9287999868392944, 1.9287999868392944, 1.9287999868392944, 1.9287999868392944, 1.9287999868392944, 1.9287999868392944, 1.9287999868392944, 1.9287999868392944, 1.9287999868392944, 1.9286999702453613, 1.9240000247955322, 1.9185999631881714, 1.9184999465942383, 1.9184000492095947, 1.916100025177002, 1.9124000072479248, 1.9121999740600586, 1.8349000215530396, 1.8935999870300293, 1.6676000356674194, 1.6668000221252441, 1.5205999612808228, 0.6814000010490417, 1.5848000049591064, 1.6775000095367432, 0.10530000180006027, 1.278499960899353, 1.4300999641418457, -0.19249999523162842, 0.34860000014305115, 1.0612000226974487, -0.10819999873638153, 0.8730000257492065, 1.0915000438690186, 0.44999998807907104, -0.08919999748468399, 1.6090999841690063, -0.9204000234603882, -0.004699999932199717, 0.476500004529953, 0.7900000214576721, -0.01489999983459711, 0.40230000019073486, -0.25369998812675476, 0.9466999769210815, 1.0743999481201172, 2.0141000747680664, 2.0102999210357666, 1.9867000579833984, 1.976199984550476, 1.9752000570297241, 1.9707000255584717, 1.9706000089645386, 1.9646999835968018, 1.9646999835968018, 1.9645999670028687, 1.957800030708313, 1.954800009727478, 1.936400055885315, 1.9363000392913818, 1.9363000392913818, 1.9363000392913818, 1.9362000226974487, 1.9361000061035156, 1.9359999895095825, 1.9315999746322632, 1.9246000051498413, 1.9246000051498413, 1.9246000051498413, 1.9244999885559082, 1.9242000579833984, 1.923699975013733, 1.9191999435424805, 1.919100046157837, 1.9190000295639038, 1.9190000295639038, 1.8805999755859375, 1.6818000078201294, 1.8345999717712402, 1.7890000343322754, 1.7659000158309937, 1.6871000528335571, 1.5686999559402466, 1.6999000310897827, 1.7480000257492065, 1.7271000146865845, 1.6397000551223755, 1.5676000118255615, 1.5772000551223755, 1.6032999753952026, 0.41929998993873596, 1.4356000423431396, 1.575600028038025, 0.413100004196167, 0.43479999899864197, 0.9710000157356262, 0.927299976348877, 1.475600004196167, -0.1859000027179718, 0.4629000127315521, 0.7053999900817871, 0.4869999885559082, 0.5733000040054321, 1.2142000198364258, 1.4226000308990479, 0.5641000270843506, 0.8925999999046326, 1.094499945640564, 1.4412000179290771, -1.5609999895095825, 0.9264000058174133, -0.5891000032424927, 0.3815999925136566, -0.14470000565052032, 0.4535999894142151, 0.9442999958992004, 2.082900047302246, 2.0827999114990234, 2.066200017929077, 2.06469988822937, 2.060499906539917, 2.060499906539917, 2.0571999549865723, 2.0571000576019287, 2.049499988555908, 2.0494000911712646, 2.045099973678589, 2.042799949645996, 2.035599946975708, 2.032099962234497, 2.0320000648498535, 2.029400110244751, 2.0255000591278076, 2.010699987411499, 2.005500078201294, 2.0053999423980713, 2.0053000450134277, 2.0053000450134277, 2.0051000118255615, 2.0009000301361084, 1.9946000576019287, 1.9943000078201294, 1.9941999912261963, 1.9896999597549438, 1.9818999767303467, 1.9818999767303467, 1.979699969291687, 1.9594000577926636, 1.9112999439239502, 1.9111000299453735, 1.0010000467300415, 1.7389999628067017, 1.7496000528335571, 1.652400016784668, 1.6706000566482544, 1.8940999507904053, 1.6723999977111816, 1.6390999555587769, 0.019999999552965164, 0.035100001841783524, -0.12250000238418579, 0.574400007724762, -0.011300000362098217, 1.7583999633789062, 0.5803999900817871, -0.694100022315979, 0.6970000267028809, 0.8974999785423279, 0.4690999984741211, 0.2160000056028366, 0.7414000034332275, 0.8100000023841858, 1.3873000144958496, -0.4943999946117401, 0.41670000553131104, 0.39890000224113464, -0.460099995136261, 1.0694999694824219, -0.45159998536109924, 2.177000045776367, 2.154599905014038, 2.1393001079559326, 2.1110000610351562, 2.109100103378296, 2.095099925994873, 2.089200019836426, 2.0822999477386475, 2.082200050354004, 2.062000036239624, 2.062000036239624, 2.062000036239624, 2.0618999004364014, 2.061800003051758, 2.0510001182556152, 2.0510001182556152, 2.0510001182556152, 2.047800064086914, 2.045099973678589, 2.0380001068115234, 2.0380001068115234, 2.0380001068115234, 2.0380001068115234, 2.0380001068115234, 2.037899971008301, 2.037899971008301, 2.0378000736236572, 2.037600040435791, 2.037600040435791, 2.037400007247925, 2.036400079727173, 2.0236001014709473, 1.8680000305175781, 1.169600009918213, 1.9595999717712402, 1.9505000114440918, 1.9377000331878662, 1.798200011253357, 1.4107999801635742, 0.2985000014305115, 1.720900058746338, 1.3102999925613403, 1.2389999628067017, -0.08649999648332596, 1.5506000518798828, 0.9539999961853027, -0.6204000115394592, 0.6940000057220459, 0.5600000023841858, 1.166599988937378, 0.8073999881744385, 0.5787000060081482, 0.05719999969005585, -1.0037000179290771, 0.32989999651908875, 0.8485999703407288, -0.15330000221729279, 0.506600022315979, 1.2582999467849731, -0.9567999839782715, -0.15770000219345093, 0.6721000075340271, -0.37220001220703125, 0.2815999984741211, 0.15700000524520874, 0.2921999990940094, 0.13680000603199005, 2.3438000679016113, 2.3073999881744385, 2.2999000549316406, 2.2999000549316406, 2.293600082397461, 2.2934999465942383, 2.286400079727173, 2.286400079727173, 2.2781999111175537, 2.2780001163482666, 2.264400005340576, 2.2604000568389893, 2.2528998851776123, 2.2528998851776123, 2.239000082015991, 2.239000082015991, 2.239000082015991, 2.239000082015991, 2.239000082015991, 2.239000082015991, 2.2388999462127686, 2.2388999462127686, 2.238600015640259, 2.238600015640259, 2.238600015640259, 2.2223000526428223, 2.2223000526428223, 2.2223000526428223, 2.2223000526428223, 2.2223000526428223, 2.2223000526428223, 2.2223000526428223, 2.2223000526428223, 2.0780999660491943, 2.008500099182129, 2.0292999744415283, 2.045300006866455, 2.1772000789642334, 2.1623001098632812, 2.0127999782562256, 1.8401000499725342, 1.93149995803833, 0.7121000289916992, 1.8202999830245972, 1.7992000579833984, 1.850000023841858, 1.9987000226974487, 1.5333000421524048, 1.7509000301361084, 1.6622999906539917, 0.6308000087738037, 1.559999942779541, 1.7655999660491943, 0.16329999268054962, 1.5706000328063965, 1.340499997138977, 0.9726999998092651, 0.9132000207901001, -0.45840001106262207, 0.3005000054836273, 1.4559999704360962, -1.0609999895095825, 1.114400029182434, 0.2540999948978424, 0.824400007724762, 0.66839998960495, 1.0715999603271484, -0.44040000438690186, 0.9024999737739563, -1.979699969291687, 0.15880000591278076, 0.6100000143051147, 0.9128999710083008, 2.367000102996826, 2.353800058364868, 2.3431999683380127, 2.3431999683380127, 2.3429999351501465, 2.3413000106811523, 2.3052000999450684, 2.3013999462127686, 2.2952001094818115, 2.295099973678589, 2.295099973678589, 2.283400058746338, 2.283400058746338, 2.283400058746338, 2.2832999229431152, 2.2695999145507812, 2.2695999145507812, 2.2695999145507812, 2.2695000171661377, 2.269399881362915, 2.269200086593628, 2.2546000480651855, 2.2527999877929688, 2.2527999877929688, 2.2527999877929688, 2.2527999877929688, 2.2527999877929688, 2.2527999877929688, 2.2527999877929688, 2.252700090408325, 2.2348999977111816, 2.2402000427246094, 2.225100040435791, 2.232100009918213, 2.231600046157837, 2.133500099182129, 2.0473999977111816, 2.105600118637085, 1.967900037765503, 2.0869998931884766, 2.135999917984009, 0.9790999889373779, 2.015700101852417, 1.7924000024795532, 0.5378999710083008, 1.7073999643325806, 1.2381999492645264, 1.417099952697754, 1.7554999589920044, 0.10999999940395355, 0.828499972820282, 0.07769999653100967, 1.8006999492645264, 1.5289000272750854, 1.420300006866455, 0.39239999651908875, 1.5916999578475952, -0.5080000162124634, 1.1957999467849731, 1.0405000448226929, 0.37220001220703125, 1.3144999742507935, -1.575600028038025, -0.008799999952316284, 1.2259999513626099, 0.07859999686479568, 0.14149999618530273, 0.34769999980926514, 0.5702000260353088, 2.552799940109253, 2.5525999069213867, 2.5325000286102295, 2.532399892807007, 2.5188000202178955, 2.5083999633789062, 2.496999979019165, 2.4941999912261963, 2.4697000980377197, 2.4697000980377197, 2.4697000980377197, 2.465100049972534, 2.463900089263916, 2.457200050354004, 2.4493000507354736, 2.4368999004364014, 2.4326999187469482, 2.4326000213623047, 2.4260001182556152, 2.4258999824523926, 2.4258999824523926, 2.4258999824523926, 2.4207000732421875, 2.4158999919891357, 2.4131999015808105, 2.4131999015808105, 2.4131999015808105, 2.4131999015808105, 2.4131999015808105, 2.4131999015808105, 2.4131999015808105, 2.3866000175476074, 2.4131999015808105, 2.3798000812530518, 2.3320999145507812, 2.348099946975708, 2.0862998962402344, 2.2409000396728516, 1.9916000366210938, 2.204699993133545, 2.0815999507904053, 2.088599920272827, 1.858299970626831, 1.7719999551773071, 1.7041000127792358, 1.7858999967575073, -0.03220000118017197, -0.1632000058889389, -0.31380000710487366, -0.44449999928474426, 1.028499960899353, 1.0123000144958496, 0.19589999318122864, 0.34139999747276306, 0.5205000042915344, -1.6016000509262085, 0.804099977016449, -0.8580999970436096, 2.8708999156951904, 2.8036000728607178, 2.730799913406372, 2.7307000160217285, 2.7304999828338623, 2.724100112915039, 2.713599920272827, 2.713599920272827, 2.713599920272827, 2.713599920272827, 2.713599920272827, 2.713599920272827, 2.713599920272827, 2.713599920272827, 2.7056000232696533, 2.682499885559082, 2.682499885559082, 2.671999931335449, 2.671999931335449, 2.671999931335449, 2.670099973678589, 2.6535000801086426, 2.6535000801086426, 2.6533000469207764, 2.6528000831604004, 2.6524999141693115, 2.631200075149536, 2.6152000427246094, 2.6152000427246094, 2.6152000427246094, 2.6152000427246094, 2.5455000400543213, 2.5111000537872314, 2.336899995803833, 2.4890999794006348, 1.9172999858856201, 2.464200019836426, 2.479599952697754, 2.3234000205993652, 2.3238000869750977, 2.197200059890747, 1.9888999462127686, 2.323699951171875, 2.2291998863220215, 0.4749999940395355, 1.9483000040054321, 2.385499954223633, 2.1135001182556152, 2.2583000659942627, 0.9417999982833862, 2.398099899291992, 1.4006999731063843, 2.27020001411438, 0.9857000112533569, -0.5199000239372253, 1.09089994430542, 1.7000999450683594, 0.5274999737739563, 0.9466999769210815, -0.8582000136375427, 0.8604999780654907, 1.4732999801635742, 0.9225000143051147, 1.0891000032424927, 1.3560999631881714, -0.13600000739097595, -0.8840000033378601, 3.017199993133545, 3.013400077819824, 3.004300117492676, 3.0011000633239746, 2.9937000274658203, 2.9935998916625977, 2.9935998916625977, 2.9935998916625977, 2.993499994277954, 2.9807000160217285, 2.9656999111175537, 2.9656999111175537, 2.96560001373291, 2.947700023651123, 2.947700023651123, 2.947700023651123, 2.947700023651123, 2.947700023651123, 2.947700023651123, 2.947700023651123, 2.9393999576568604, 2.939199924468994, 2.9372000694274902, 2.915299892425537, 2.9151999950408936, 2.9151999950408936, 2.91510009765625, 2.91510009765625, 2.886899948120117, 2.884700059890747, 2.876699924468994, 2.6995999813079834, 2.7116000652313232, 2.155400037765503, 2.5204999446868896, 0.8743000030517578, 1.684399962425232, 0.045099999755620956, 2.340100049972534, 2.2367000579833984, 2.1756999492645264, 1.330399990081787, -0.6801000237464905, 0.8518000245094299, 1.6793999671936035, 1.914199948310852, -0.1688999980688095, -1.986199975013733, 0.5710999965667725, -1.8519999980926514, -1.0654000043869019], \"logprob\": [30.0, 29.0, 28.0, 27.0, 26.0, 25.0, 24.0, 23.0, 22.0, 21.0, 20.0, 19.0, 18.0, 17.0, 16.0, 15.0, 14.0, 13.0, 12.0, 11.0, 10.0, 9.0, 8.0, 7.0, 6.0, 5.0, 4.0, 3.0, 2.0, 1.0, -6.378200054168701, -6.393700122833252, -6.535200119018555, -6.535299777984619, -6.586699962615967, -6.587900161743164, -6.082499980926514, -6.6641998291015625, -6.664100170135498, -6.66480016708374, -6.7241997718811035, -6.787499904632568, -6.853899955749512, -6.855000019073486, -6.855000019073486, -6.881999969482422, -5.646100044250488, -6.0370001792907715, -6.956500053405762, -7.036900043487549, -6.96619987487793, -7.070199966430664, -7.123300075531006, -7.123899936676025, -7.124499797821045, -7.160399913787842, -7.198599815368652, -7.218800067901611, -7.218800067901611, -7.218900203704834, -5.064700126647949, -5.9822998046875, -6.33489990234375, -6.956900119781494, -4.919400215148926, -6.319200038909912, -5.592299938201904, -6.666399955749512, -6.454400062561035, -5.108399868011475, -6.78849983215332, -3.4921000003814697, -6.303800106048584, -4.478400230407715, -5.392600059509277, -3.6036999225616455, -5.898799896240234, -3.9565000534057617, -3.832200050354004, -5.648200035095215, -3.801500082015991, -5.093999862670898, -5.106100082397461, -4.72730016708374, -5.396200180053711, -5.88640022277832, -5.590000152587891, -5.335100173950195, -5.930799961090088, -5.6417999267578125, -5.739200115203857, -5.76200008392334, -5.840000152587891, -6.047599792480469, -5.835100173950195, -6.090799808502197, -6.105899810791016, -6.297399997711182, -6.297599792480469, -6.316100120544434, -6.344699859619141, -6.394000053405762, -6.414100170135498, -6.4679999351501465, -6.5229997634887695, -6.5229997634887695, -6.5229997634887695, -6.5229997634887695, -6.5229997634887695, -6.5229997634887695, -6.5229997634887695, -6.5229997634887695, -6.5229997634887695, -6.5229997634887695, -6.5229997634887695, -6.5229997634887695, -6.523600101470947, -6.582300186157227, -6.645299911499023, -6.645599842071533, -6.646100044250488, -6.671800136566162, -6.712500095367432, -6.713799953460693, -5.4868998527526855, -6.414299964904785, -5.696800231933594, -5.742199897766113, -5.409299850463867, -3.2390999794006348, -5.742000102996826, -6.059000015258789, -3.597599983215332, -5.565000057220459, -5.7835001945495605, -3.5975000858306885, -4.376800060272217, -5.416399955749512, -3.9433999061584473, -5.4156999588012695, -5.751500129699707, -5.5472002029418945, -5.226099967956543, -6.3368000984191895, -4.9664998054504395, -5.481200218200684, -5.77400016784668, -5.9217000007629395, -5.696800231933594, -5.9475998878479, -5.861299991607666, -6.125100135803223, -6.177499771118164, -5.917799949645996, -5.99560022354126, -6.379700183868408, -6.515600204467773, -6.517199993133545, -6.579699993133545, -6.579999923706055, -6.646299839019775, -6.646599769592285, -6.646999835968018, -6.718100070953369, -6.7480998039245605, -6.915500164031982, -6.9156999588012695, -6.915500164031982, -6.915900230407715, -6.916500091552734, -6.917399883270264, -6.917799949645996, -6.9527997970581055, -7.010900020599365, -7.011000156402588, -7.011099815368652, -7.011600017547607, -7.012899875640869, -7.016300201416016, -7.0518999099731445, -7.052000045776367, -7.052000045776367, -7.052800178527832, -6.485000133514404, -5.540999889373779, -6.583399772644043, -6.404099941253662, -6.327300071716309, -6.035099983215332, -5.591800212860107, -6.126299858093262, -6.317699909210205, -6.29610013961792, -6.125500202178955, -5.958399772644043, -6.0030999183654785, -6.070799827575684, -3.4158999919891357, -5.748700141906738, -6.076099872589111, -3.507499933242798, -3.611299991607666, -5.120200157165527, -5.1255998611450195, -5.974899768829346, -3.8889000415802, -5.013500213623047, -5.2916998863220215, -5.12060022354126, -5.228700160980225, -5.886899948120117, -6.077000141143799, -5.572199821472168, -5.8190999031066895, -5.9415998458862305, -6.167600154876709, -4.966000080108643, -5.975800037384033, -5.72599983215332, -5.8983001708984375, -5.826600074768066, -5.972700119018555, -6.0243000984191895, -5.859799861907959, -5.860499858856201, -6.156199932098389, -6.181600093841553, -6.24399995803833, -6.244200229644775, -6.290900230407715, -6.291600227355957, -6.392899990081787, -6.393099784851074, -6.446899890899658, -6.469900131225586, -6.553599834442139, -6.591700077056885, -6.592599868774414, -6.618199825286865, -6.65910005569458, -6.793000221252441, -6.8414998054504395, -6.842199802398682, -6.842400074005127, -6.842400074005127, -6.843500137329102, -6.393899917602539, -6.929299831390381, -6.929999828338623, -6.931600093841553, -6.965799808502197, -7.024099826812744, -7.024099826812744, -6.478099822998047, -6.6605000495910645, -6.146900177001953, -6.296800136566162, -2.404099941253662, -5.782400131225586, -5.914700031280518, -5.631100177764893, -5.860499858856201, -6.553699970245361, -6.036200046539307, -6.018099784851074, -3.8152999877929688, -4.011000156402588, -3.8254001140594482, -5.033100128173828, -4.736700057983398, -6.373300075531006, -5.472499847412109, -4.614699840545654, -5.6255998611450195, -5.80049991607666, -5.667099952697754, -5.585999965667725, -5.861199855804443, -5.896299839019775, -6.125699996948242, -5.631400108337402, -5.8902997970581055, -5.969699859619141, -5.936500072479248, -6.146299839019775, -6.133399963378906, -4.538300037384033, -5.496500015258789, -5.851399898529053, -6.300300121307373, -6.320700168609619, -6.488500118255615, -6.551700115203857, -6.61959981918335, -6.62060022354126, -6.35290002822876, -6.801199913024902, -6.801300048828125, -6.801799774169922, -6.8018999099731445, -6.888400077819824, -6.888400077819824, -6.888700008392334, -6.490200042724609, -6.894800186157227, -6.98390007019043, -6.98390007019043, -6.98390007019043, -6.98390007019043, -6.984000205993652, -6.9842000007629395, -6.984099864959717, -6.985000133514404, -6.986100196838379, -6.986400127410889, -6.986999988555908, -6.828999996185303, -6.581699848175049, -5.788000106811523, -2.2355000972747803, -6.558599948883057, -6.619800090789795, -6.579400062561035, -6.312600135803223, -5.557799816131592, -3.4045000076293945, -6.320400238037109, -5.545100212097168, -5.773600101470947, -4.132599830627441, -6.341400146484375, -5.7677998542785645, -4.455699920654297, -5.674600124359131, -5.576300144195557, -6.08519983291626, -5.8155999183654785, -5.7281999588012695, -5.4191999435424805, -4.924300193786621, -5.761300086975098, -6.053599834442139, -5.61329984664917, -6.02370023727417, -6.26200008392334, -5.682199954986572, -5.95959997177124, -6.154600143432617, -6.054100036621094, -6.144800186157227, -6.165599822998047, -6.219600200653076, -6.213200092315674, -5.765399932861328, -6.261600017547607, -6.342700004577637, -6.342599868774414, -6.405600070953369, -6.406099796295166, -6.473100185394287, -6.473199844360352, -6.545100212097168, -6.545300006866455, -6.655900001525879, -5.732399940490723, -6.742499828338623, -6.742499828338623, -6.837900161743164, -6.8379998207092285, -6.8379998207092285, -6.838099956512451, -6.838099956512451, -6.838099956512451, -6.838600158691406, -6.838799953460693, -6.840099811553955, -6.8403000831604, -6.840400218963623, -6.943699836730957, -6.943699836730957, -6.943699836730957, -6.943699836730957, -6.943699836730957, -6.943699836730957, -6.943699836730957, -6.943699836730957, -5.79640007019043, -5.671000003814697, -5.896200180053711, -6.095699787139893, -6.743100166320801, -6.682400226593018, -6.108699798583984, -5.568399906158447, -5.906199932098389, -3.123199939727783, -5.869500160217285, -5.882699966430664, -6.009699821472168, -6.342599868774414, -5.50029993057251, -5.9781999588012695, -5.838799953460693, -4.094600200653076, -5.703199863433838, -6.065100193023682, -3.8828001022338867, -5.880099773406982, -5.695000171661377, -5.456399917602539, -5.413599967956543, -4.379000186920166, -5.1595001220703125, -5.884300231933594, -4.466100215911865, -5.7027997970581055, -5.353400230407715, -5.78439998626709, -5.757900238037109, -5.872300148010254, -5.577300071716309, -5.872000217437744, -5.682600021362305, -5.8383002281188965, -5.867599964141846, -5.879700183868408, -5.860300064086914, -6.047399997711182, -6.177199840545654, -6.1774001121521, -6.178800106048584, -6.198699951171875, -6.54640007019043, -6.577499866485596, -6.6265997886657715, -6.626500129699707, -6.626999855041504, -6.713699817657471, -6.714000225067139, -6.714200019836426, -6.714300155639648, -6.809100151062012, -6.809100151062012, -6.809100151062012, -6.809700012207031, -6.809800148010254, -6.810800075531006, -6.166500091552734, -6.914899826049805, -6.914899826049805, -6.914899826049805, -6.914899826049805, -6.914899826049805, -6.914899826049805, -6.914899826049805, -6.91510009765625, -6.19920015335083, -6.502900123596191, -6.317999839782715, -6.548799991607666, -6.549300193786621, -5.932600021362305, -5.692699909210205, -6.075799942016602, -5.564199924468994, -6.126100063323975, -6.474599838256836, -3.746299982070923, -6.202300071716309, -5.877999782562256, -3.50819993019104, -5.7434000968933105, -5.118800163269043, -5.406899929046631, -5.924699783325195, -3.5929999351501465, -4.6315999031066895, -3.757499933242798, -6.0467000007629395, -5.76639986038208, -5.711400032043457, -4.744500160217285, -5.901700019836426, -4.428500175476074, -5.652200222015381, -5.568299770355225, -5.309599876403809, -5.833099842071533, -4.9807000160217285, -5.485199928283691, -5.906199932098389, -5.723400115966797, -5.911399841308594, -5.974899768829346, -6.02209997177124, -3.96370005607605, -4.008800029754639, -4.993000030517578, -4.9928998947143555, -5.351500034332275, -5.5619001388549805, -5.749100208282471, -3.3548998832702637, -6.104400157928467, -6.104400157928467, -6.104400157928467, -6.154300212860107, -6.167399883270264, -6.2347002029418945, -6.307300090789795, -6.417500019073486, -6.451099872589111, -5.937399864196777, -6.50439977645874, -6.505000114440918, -6.505099773406982, -6.50540018081665, -6.542099952697754, -6.579699993133545, -6.599800109863281, -6.599800109863281, -6.599800109863281, -6.599800109863281, -6.599800109863281, -6.599800109863281, -6.599800109863281, -4.615200042724609, -6.599800109863281, -5.023799896240234, -5.4079999923706055, -6.100800037384033, -4.914100170135498, -5.755799770355225, -4.564199924468994, -5.608399868011475, -5.360400199890137, -5.553100109100342, -5.003499984741211, -5.002500057220459, -5.331399917602539, -5.651700019836426, -3.7351999282836914, -4.2093000411987305, -4.14900016784668, -4.365099906921387, -5.27839994430542, -5.314599990844727, -4.940999984741211, -5.11870002746582, -5.281499862670898, -5.006700038909912, -5.5644001960754395, -5.583399772644043, -4.532199859619141, -5.761600017547607, -6.371099948883057, -6.371799945831299, -6.372700214385986, -6.412499904632568, -6.476799964904785, -6.476799964904785, -6.476799964904785, -6.476799964904785, -6.476799964904785, -6.476900100708008, -6.4770002365112305, -6.4770002365112305, -6.522600173950195, -6.6468000411987305, -6.647200107574463, -6.699900150299072, -6.699900150299072, -6.699900150299072, -6.198999881744385, -6.787399768829346, -6.787499904632568, -6.788599967956543, -6.79010009765625, -6.791399955749512, -5.669400215148926, -6.952099800109863, -6.952099800109863, -6.952099800109863, -6.952099800109863, -4.589399814605713, -4.727799892425537, -4.563499927520752, -5.979100227355957, -3.7646000385284424, -6.007299900054932, -6.1097002029418945, -5.5243000984191895, -5.568600177764893, -5.160699844360352, -4.522900104522705, -5.739500045776367, -5.532599925994873, -3.2279999256134033, -5.510000228881836, -6.063000202178955, -5.7866997718811035, -5.955599784851074, -4.518199920654297, -6.1269001960754395, -5.1774001121521, -6.097300052642822, -5.364299774169922, -4.565999984741211, -5.51800012588501, -5.832799911499023, -5.274499893188477, -5.514200210571289, -4.778800010681152, -5.507999897003174, -5.770400047302246, -5.607800006866455, -5.758900165557861, -5.804500102996826, -5.612500190734863, -5.609399795532227, -5.816299915313721, -5.844799995422363, -5.919099807739258, -5.907700061798096, -5.983799934387207, -5.983799934387207, -5.983799934387207, -5.983799934387207, -5.998799800872803, -6.086400032043457, -6.1819000244140625, -6.182300090789795, -6.182499885559082, -6.287199974060059, -6.287199974060059, -6.287199974060059, -6.287199974060059, -6.287199974060059, -6.287199974060059, -6.287300109863281, -6.332699775695801, -6.333099842071533, -6.296599864959717, -6.456500053405762, -6.456399917602539, -6.456699848175049, -6.456999778747559, -6.457099914550781, -5.817200183868408, -6.597799777984619, -5.769999980926514, -5.864999771118164, -6.019800186157227, -5.458199977874756, -5.962500095367432, -4.262599945068359, -5.160900115966797, -3.657900094985962, -5.83489990234375, -5.7779998779296875, -5.7555999755859375, -5.5131001472473145, -4.6006999015808105, -5.39870023727417, -5.798600196838379, -5.998899936676025, -5.645299911499023, -5.391300201416016, -5.797500133514404, -5.68720006942749, -5.790800094604492]}, \"token.table\": {\"Topic\": [1, 2, 3, 4, 5, 6, 7, 8, 9, 10, 1, 2, 3, 4, 5, 6, 7, 8, 9, 10, 2, 7, 1, 2, 3, 4, 5, 6, 7, 8, 9, 10, 3, 2, 4, 6, 9, 10, 3, 4, 5, 6, 8, 9, 4, 8, 1, 6, 7, 1, 2, 4, 5, 6, 7, 8, 8, 7, 9, 7, 9, 2, 3, 2, 2, 2, 2, 2, 9, 2, 2, 7, 2, 7, 8, 6, 1, 5, 3, 4, 6, 9, 6, 10, 4, 6, 4, 2, 10, 1, 2, 3, 4, 6, 7, 10, 1, 2, 3, 4, 5, 6, 7, 8, 9, 10, 9, 4, 1, 5, 1, 2, 3, 4, 5, 7, 8, 9, 10, 1, 2, 3, 4, 5, 6, 7, 8, 9, 10, 1, 2, 3, 4, 5, 6, 8, 4, 5, 6, 7, 5, 1, 2, 3, 4, 5, 7, 8, 9, 10, 2, 9, 6, 8, 9, 1, 2, 3, 4, 5, 8, 9, 10, 7, 6, 3, 9, 1, 2, 3, 4, 5, 6, 7, 8, 9, 1, 2, 3, 4, 5, 6, 7, 8, 9, 10, 1, 2, 3, 4, 5, 6, 7, 8, 9, 10, 1, 2, 3, 4, 5, 6, 7, 9, 6, 7, 9, 1, 2, 3, 4, 5, 6, 7, 8, 9, 10, 2, 3, 4, 5, 6, 9, 8, 4, 4, 4, 2, 3, 4, 9, 7, 10, 6, 1, 3, 5, 9, 8, 10, 2, 10, 1, 1, 3, 7, 9, 3, 2, 6, 8, 9, 7, 3, 2, 4, 6, 7, 8, 10, 4, 10, 3, 8, 1, 3, 8, 9, 5, 10, 8, 9, 7, 7, 1, 6, 7, 1, 7, 9, 4, 5, 4, 3, 4, 6, 8, 10, 8, 1, 2, 10, 4, 6, 8, 8, 10, 1, 6, 7, 5, 8, 10, 1, 2, 3, 4, 5, 6, 7, 9, 8, 8, 4, 3, 4, 5, 3, 1, 2, 6, 7, 9, 6, 1, 2, 3, 4, 5, 6, 7, 9, 8, 1, 6, 8, 5, 5, 4, 1, 2, 3, 5, 6, 1, 2, 7, 9, 1, 3, 4, 5, 7, 9, 10, 10, 10, 8, 4, 9, 7, 8, 10, 9, 3, 6, 6, 2, 4, 5, 6, 5, 5, 3, 3, 4, 1, 2, 3, 4, 5, 6, 7, 1, 2, 3, 4, 5, 6, 7, 9, 6, 5, 8, 4, 5, 1, 2, 3, 5, 9, 10, 7, 9, 6, 10, 6, 9, 1, 2, 6, 10, 6, 1, 2, 4, 7, 8, 3, 8, 9, 7, 7, 2, 4, 5, 1, 2, 3, 4, 5, 6, 7, 10, 6, 4, 7, 1, 5, 9, 1, 3, 2, 4, 6, 6, 6, 4, 9, 9, 3, 6, 8, 9, 9, 1, 6, 4, 7, 8, 1, 1, 7, 9, 1, 9, 6, 1, 3, 4, 5, 6, 7, 9, 10, 1, 3, 1, 3, 4, 1, 2, 3, 4, 5, 6, 7, 8, 8, 1, 2, 3, 6, 1, 4, 1, 2, 4, 8, 8, 7, 3, 1, 5, 9, 2, 3, 4, 5, 9, 1, 2, 3, 4, 5, 6, 7, 8, 9, 6, 3, 4, 5, 9, 3, 2, 2, 9, 3, 1, 3, 4, 5, 6, 7, 8, 5, 7, 9, 4, 3, 4, 5, 1, 2, 3, 4, 5, 6, 7, 8, 9, 10, 1, 2, 3, 5, 3, 1, 2, 3, 5, 7, 10, 7, 3, 1, 7, 1, 2, 3, 4, 5, 6, 7, 8, 9, 10, 2, 4, 7, 8, 7, 2, 7, 4, 6, 1, 3, 9, 2, 7, 9, 7, 1, 10, 5, 6, 7, 9, 3, 7, 3, 8, 8, 3, 5, 6, 5, 4, 1, 4, 2, 1, 4, 1, 3, 4, 7, 1, 2, 3, 5, 6, 7, 1, 2, 6, 7, 2, 10, 3, 4, 6, 9, 4, 5, 10, 2, 9, 5, 7, 1, 2, 3, 4, 5, 6, 1, 2, 3, 4, 6, 10, 1, 2, 3, 6, 7, 6, 5, 9, 3, 1, 2, 3, 4, 5, 6, 7, 8, 1, 2, 3, 4, 5, 7, 1, 6, 3, 1, 2, 3, 4, 5, 6, 4, 1, 2, 3, 4, 5, 6, 7, 8, 10, 1, 2, 4, 5, 7, 1, 5, 7, 7, 7, 10, 10, 10, 6, 1, 2, 5, 6, 7, 8, 10, 2, 1, 2, 5, 6, 3, 6, 9, 3, 4, 8, 10, 8, 7, 9, 10, 6, 4, 1, 3, 8, 9, 1, 3, 5, 6, 6, 1, 2, 4, 5, 6, 7, 9, 10, 2, 1, 2, 3, 4, 5, 7, 8, 9, 1, 4, 7, 9, 5, 1, 2, 3, 4, 7, 2, 4, 9, 10, 1, 2, 3, 7, 4, 6, 9, 3, 5, 2, 3, 4, 5, 4, 5, 6, 4, 9, 6, 7, 2, 4, 6, 5, 2, 5, 4, 5, 9, 3, 4, 6, 10, 1, 9, 3, 4, 8, 1, 2, 3, 4, 5, 6, 7, 10, 10, 3, 5, 6, 7, 8, 9, 9, 4, 6, 8, 9, 3, 9, 1, 2, 3, 10, 3, 6, 1, 3, 5, 7, 7, 1, 1, 2, 3, 4, 5, 6, 7, 3, 5, 7, 8, 1, 2, 4, 5, 6, 7, 1, 2, 3, 4, 5, 6, 7, 8, 9, 10, 8, 3, 7, 10, 6, 6, 1, 3, 5, 7, 7, 2, 3, 3, 10, 2, 6, 7, 8, 6, 10, 8, 5, 8, 3, 7, 3, 1, 2, 3, 4, 5, 7, 10, 7, 1, 2, 3, 4, 5, 6, 7, 10, 3, 6, 1, 6, 1, 3, 5, 6, 7, 1, 2, 3, 4, 5, 5, 4, 5, 3, 8, 4, 9, 2, 6, 7, 9, 3, 4, 3, 1, 8, 3, 4, 5, 4, 10, 5, 1, 3, 6, 7, 1, 3, 6, 7, 6, 6, 3, 6, 9, 9, 9, 1, 2, 6, 8, 6, 1, 2, 4, 5, 9, 3, 7, 2, 3, 6, 10, 10, 3, 4, 7, 9, 1, 5, 6, 1, 10, 1, 2, 3, 5, 7, 1, 2, 3, 6, 7, 10, 1, 2, 3, 4, 5, 6, 7, 1, 5, 6, 7, 9, 1, 5, 7, 5, 1, 8, 5, 1, 2, 3, 4, 5, 6, 10, 8, 2, 4, 1, 3, 4, 5, 6, 7, 8, 1, 2, 3, 4, 7, 1, 4, 5, 6, 10, 1, 2, 3, 4, 6, 6, 1, 2, 3, 4, 5, 6, 9, 10, 1, 2, 3, 5, 6, 8, 7, 5, 7, 9, 1, 8, 3, 9, 2, 7, 10, 3, 4, 1, 2, 9, 2, 4, 5, 6, 7, 5, 1, 10, 2, 3, 6, 8, 10, 1, 2, 3, 5, 7, 1, 1, 2, 4, 5, 6, 7, 8, 10, 2, 4, 2, 4, 5, 7, 10, 4, 1, 2, 3, 5, 1, 1, 2, 3, 6, 7, 10, 8, 1, 2, 2, 1, 2, 3, 4, 5, 6, 7, 10, 3, 4, 5, 8, 1, 2, 4, 5, 6, 7, 8, 1, 1, 2, 6, 1, 2, 3, 4, 5, 6, 7, 8, 1, 2, 4, 9, 2, 8, 1, 6, 9, 1, 2, 1, 1, 1, 2, 4, 6, 8, 8, 2, 1, 5, 1, 3, 5, 9, 10, 2, 4, 8, 3, 1, 2, 10, 1, 2, 5, 9, 4, 1, 3, 6, 8, 10, 2, 5, 2, 5, 5, 2, 5, 2, 5, 8, 9, 10, 2], \"Freq\": [0.2389654964208603, 0.26405027508735657, 0.19275669753551483, 0.05941131338477135, 0.04092779383063316, 0.05677080899477005, 0.052810054272413254, 0.04884929955005646, 0.02376452460885048, 0.02244427241384983, 0.10486475378274918, 0.11038395017385483, 0.026807531714439392, 0.3224788308143616, 0.36032477021217346, 0.03153827413916588, 0.018134506419301033, 0.01576913706958294, 0.004730741027742624, 0.005519197788089514, 0.34218138456344604, 0.6354796886444092, 0.1564798504114151, 0.18895679712295532, 0.020667150616645813, 0.11809799820184708, 0.04428675025701523, 0.1712421029806137, 0.23324355483055115, 0.03247695043683052, 0.023619599640369415, 0.014762249775230885, 0.9449085593223572, 0.03645702078938484, 0.14582808315753937, 0.03645702078938484, 0.6926833987236023, 0.07291404157876968, 0.17443448305130005, 0.05814482644200325, 0.377941370010376, 0.029072413221001625, 0.17443448305130005, 0.17443448305130005, 0.9525579214096069, 0.8698714375495911, 0.23691709339618683, 0.47383418679237366, 0.23691709339618683, 0.2969045639038086, 0.1484522819519043, 0.0593809150159359, 0.02969045750796795, 0.415666401386261, 0.02969045750796795, 0.9699549674987793, 0.8802574276924133, 0.9396710395812988, 0.7698937654495239, 0.7525997161865234, 0.7482402324676514, 0.9809553027153015, 0.8626375794410706, 0.9600408673286438, 0.9809554219245911, 0.9809553027153015, 0.9809554219245911, 0.9809555411338806, 0.7698937654495239, 0.9809553027153015, 0.9809553027153015, 0.7525997161865234, 0.12948405742645264, 0.19422610104084015, 0.7121623754501343, 0.7513541579246521, 0.42030295729637146, 0.5604039430618286, 0.9204816222190857, 0.8271618485450745, 0.08271618187427521, 0.08271618187427521, 0.7513541579246521, 0.7376769185066223, 0.1797107756137848, 0.7188431024551392, 0.7863946557044983, 0.37951672077178955, 0.5060222744941711, 0.14882779121398926, 0.14882779121398926, 0.38695228099823, 0.11906223744153976, 0.05953111872076988, 0.05953111872076988, 0.05953111872076988, 0.17205610871315002, 0.14869046211242676, 0.1051453948020935, 0.1051453948020935, 0.15081460773944855, 0.012744896113872528, 0.09771087020635605, 0.07434523105621338, 0.0881521999835968, 0.04460713639855385, 0.9396206736564636, 0.9580159783363342, 0.13088560104370117, 0.7853135466575623, 0.15062791109085083, 0.05648546665906906, 0.07531395554542542, 0.15062791109085083, 0.13179941475391388, 0.018828488886356354, 0.1694563925266266, 0.22594186663627625, 0.018828488886356354, 0.10397282242774963, 0.060650814324617386, 0.225274458527565, 0.14729483425617218, 0.09530842304229736, 0.043322011828422546, 0.09530842304229736, 0.12996603548526764, 0.09530842304229736, 0.8049640655517578, 0.27824702858924866, 0.04393374174833298, 0.08786748349666595, 0.08786748349666595, 0.07322290539741516, 0.21966871619224548, 0.2050241380929947, 0.06589307636022568, 0.06589307636022568, 0.5271446108818054, 0.39535844326019287, 0.8681310415267944, 0.2985098659992218, 0.21709807217121124, 0.04070588946342468, 0.10854903608560562, 0.05427451804280281, 0.06784314662218094, 0.05427451804280281, 0.04070588946342468, 0.09498041123151779, 0.21080610156059265, 0.7378213405609131, 0.9422158002853394, 0.244419127702713, 0.6110478043556213, 0.03053690493106842, 0.10687916725873947, 0.07634226232767105, 0.18322142958641052, 0.22902679443359375, 0.1679529845714569, 0.1374160796403885, 0.07634226232767105, 0.9192485213279724, 0.964950680732727, 0.4944213628768921, 0.42378973960876465, 0.04307020828127861, 0.05742694064974785, 0.10049714893102646, 0.18663756549358368, 0.20099429786205292, 0.08614041656255722, 0.05742694064974785, 0.21535103023052216, 0.05742694064974785, 0.29853513836860657, 0.12030520290136337, 0.0712919682264328, 0.0712919682264328, 0.02673448994755745, 0.057924725115299225, 0.12921670079231262, 0.09357070922851562, 0.022278741002082825, 0.10248220711946487, 0.17849887907505035, 0.049241069704294205, 0.07386160641908646, 0.018465401604771614, 0.09848213940858841, 0.12310267984867096, 0.2031194120645523, 0.11079240590333939, 0.14156807959079742, 0.012310267426073551, 0.03883236274123192, 0.11649708449840546, 0.09708090871572495, 0.07766472548246384, 0.05824854224920273, 0.213578000664711, 0.252410352230072, 0.15532945096492767, 0.5426197648048401, 0.40696480870246887, 0.7996015548706055, 0.2252427190542221, 0.13139158487319946, 0.20021574199199677, 0.07508090138435364, 0.11887809634208679, 0.03128371015191078, 0.08759438991546631, 0.043797194957733154, 0.05005393549799919, 0.03754045069217682, 0.9809553027153015, 0.1465204507112503, 0.3296709954738617, 0.18315055966377258, 0.07326022535562515, 0.25641077756881714, 0.9443647861480713, 0.8115797638893127, 0.8441096544265747, 0.7867491245269775, 0.12464343756437302, 0.12464343756437302, 0.12464343756437302, 0.6232171654701233, 0.9194009304046631, 0.8979889750480652, 0.7835063934326172, 0.22541649639606476, 0.11270824819803238, 0.11270824819803238, 0.5635412335395813, 0.8983765244483948, 0.8050256967544556, 0.9809554219245911, 0.8049640655517578, 0.9521834254264832, 0.12299098819494247, 0.24598197638988495, 0.12299098819494247, 0.4919639527797699, 0.7956416010856628, 0.13401490449905396, 0.04467163607478142, 0.6254029273986816, 0.17868654429912567, 0.9185137748718262, 0.7991244792938232, 0.1750270128250122, 0.1750270128250122, 0.025003857910633087, 0.10001543164253235, 0.5000771880149841, 0.8356215953826904, 0.8716496229171753, 0.8296138644218445, 0.12226436287164688, 0.8558505773544312, 0.17132525146007538, 0.7709636688232422, 0.9210469722747803, 0.7700092196464539, 0.14899830520153046, 0.7449915409088135, 0.791504442691803, 0.7699757814407349, 0.9179800152778625, 0.7526136040687561, 0.7932628393173218, 0.15865257382392883, 0.052884191274642944, 0.26807552576065063, 0.13403776288032532, 0.5361510515213013, 0.1380360722541809, 0.8282163739204407, 0.9101585149765015, 0.7960222363471985, 0.14572209119796753, 0.29144418239593506, 0.14572209119796753, 0.3643052577972412, 0.8448338508605957, 0.27450767159461975, 0.13725383579730988, 0.6862691640853882, 0.06018038094043732, 0.12036076188087463, 0.7823449969291687, 0.8596284985542297, 0.8420431613922119, 0.11356264352798462, 0.5678132176399231, 0.28390660881996155, 0.2788957357406616, 0.18593049049377441, 0.46482622623443604, 0.07683850079774857, 0.13062544167041779, 0.10757389664649963, 0.07683850079774857, 0.07683850079774857, 0.02305154874920845, 0.13062544167041779, 0.3765086233615875, 0.8316088318824768, 0.8596284985542297, 0.8536601662635803, 0.8933404684066772, 0.8737846612930298, 0.7986913323402405, 0.9006621837615967, 0.06571308523416519, 0.06571308523416519, 0.032856542617082596, 0.09856962412595749, 0.6899873614311218, 0.9165747761726379, 0.16486065089702606, 0.19483532011508942, 0.08992399275302887, 0.14987331628799438, 0.1348859965801239, 0.029974665492773056, 0.08992399275302887, 0.14987331628799438, 0.9597012996673584, 0.07778598368167877, 0.07778598368167877, 0.7000738382339478, 0.9419658184051514, 0.867346465587616, 0.8947591185569763, 0.09010257571935654, 0.18020515143871307, 0.540615439414978, 0.09010257571935654, 0.04505128785967827, 0.3632211983203888, 0.1362079530954361, 0.0908052995800972, 0.4086238443851471, 0.12334334850311279, 0.17620478570461273, 0.05286143720149994, 0.1409638226032257, 0.08810239285230637, 0.4052709937095642, 0.8296171426773071, 0.8296154737472534, 0.8296158909797668, 0.7919519543647766, 0.28138816356658936, 0.7034704089164734, 0.9374368190765381, 0.9711271524429321, 0.9228955507278442, 0.9613655805587769, 0.8243634700775146, 0.7513541579246521, 0.7513541579246521, 0.615643322467804, 0.187369704246521, 0.05353420227766037, 0.13383550941944122, 0.798839271068573, 0.9595499038696289, 0.914790153503418, 0.7968361377716064, 0.9108767509460449, 0.06655339896678925, 0.2994903028011322, 0.09983009845018387, 0.09983009845018387, 0.03327669948339462, 0.03327669948339462, 0.33276697993278503, 0.024539314210414886, 0.3926290273666382, 0.04907862842082977, 0.07361794263124466, 0.12269657105207443, 0.09815725684165955, 0.1717752069234848, 0.04907862842082977, 0.9165958166122437, 0.8673638701438904, 0.8596284985542297, 0.8985886573791504, 0.9251163005828857, 0.1850823163986206, 0.33931758999824524, 0.15423527359962463, 0.12338821589946747, 0.15423527359962463, 0.7745649218559265, 0.8461352586746216, 0.7700269818305969, 0.918089747428894, 0.920453667640686, 0.8889439702033997, 0.6607174277305603, 0.21464873850345612, 0.28619831800460815, 0.14309915900230408, 0.28619831800460815, 0.7513418197631836, 0.1781223863363266, 0.07124895602464676, 0.3562447726726532, 0.21374686062335968, 0.1781223863363266, 0.7955724596977234, 0.25010183453559875, 0.6252546310424805, 0.846519410610199, 0.8203430771827698, 0.12334856390953064, 0.8634399175643921, 0.86737459897995, 0.25680336356163025, 0.1070014089345932, 0.20686937868595123, 0.2140028178691864, 0.05706741660833359, 0.11413483321666718, 0.03566713631153107, 0.0071334270760416985, 0.7513418197631836, 0.8745014071464539, 0.7526009678840637, 0.8514978885650635, 0.18610021471977234, 0.7444008588790894, 0.79960697889328, 0.9419900178909302, 0.8429059982299805, 0.8934611082077026, 0.9183340668678284, 0.8888589143753052, 0.9169823527336121, 0.4156397879123688, 0.5818957090377808, 0.7698937654495239, 0.16362214088439941, 0.10908143222332001, 0.5999478697776794, 0.054540716111660004, 0.6599907875061035, 0.9723676443099976, 0.8446400761604309, 0.045412082225084305, 0.018164832144975662, 0.9354888796806335, 0.9704903364181519, 0.12046437710523605, 0.8432506322860718, 0.9231162071228027, 0.799568235874176, 0.9408453106880188, 0.9165003895759583, 0.04932224377989769, 0.17262785136699677, 0.07398336380720139, 0.12330561131238937, 0.09864448755979538, 0.29593345522880554, 0.17262785136699677, 0.024661121889948845, 0.8513888716697693, 0.12162698060274124, 0.2396334856748581, 0.7189004421234131, 0.0798778310418129, 0.2391563355922699, 0.02391563355922699, 0.07174690067768097, 0.02391563355922699, 0.02391563355922699, 0.2869876027107239, 0.16740943491458893, 0.19132506847381592, 0.7921863198280334, 0.33617284893989563, 0.1494101583957672, 0.0747050791978836, 0.44823047518730164, 0.6883962750434875, 0.3129073977470398, 0.9202232360839844, 0.1450546234846115, 0.8703277111053467, 0.9913792014122009, 0.9699979424476624, 0.8463431596755981, 0.7956056594848633, 0.2803216874599457, 0.14016084372997284, 0.5606433749198914, 0.07796764373779297, 0.10395685583353043, 0.15593528747558594, 0.07796764373779297, 0.5717626810073853, 0.17063653469085693, 0.053885217756032944, 0.19608232378959656, 0.1227385550737381, 0.10178319364786148, 0.10627362877130508, 0.14968116581439972, 0.06585971266031265, 0.032929856330156326, 0.8903002738952637, 0.14491596817970276, 0.2898319363594055, 0.3864425718784332, 0.14491596817970276, 0.916149377822876, 0.9809554219245911, 0.9809555411338806, 0.661357045173645, 0.9164255857467651, 0.12889628112316132, 0.055241260677576065, 0.09206876903772354, 0.09206876903772354, 0.036827508360147476, 0.018413754180073738, 0.5708263516426086, 0.925567090511322, 0.8060392141342163, 0.13433986902236938, 0.9523509740829468, 0.09671946614980698, 0.6770362854003906, 0.19343893229961395, 0.15638168156147003, 0.12001384794712067, 0.19396178424358368, 0.12122610956430435, 0.060613054782152176, 0.1842636913061142, 0.09455636888742447, 0.05576401203870773, 0.007273566909134388, 0.007273566909134388, 0.14351099729537964, 0.10763325542211533, 0.6816772818565369, 0.03587774932384491, 0.9477829933166504, 0.38626766204833984, 0.19313383102416992, 0.04828345775604248, 0.21727555990219116, 0.09656691551208496, 0.07242518663406372, 0.9180192947387695, 0.8938530683517456, 0.767490804195404, 0.20931567251682281, 0.04528188705444336, 0.07546981424093246, 0.1660335808992386, 0.030187925323843956, 0.07546981424093246, 0.13584566116333008, 0.30187925696372986, 0.10565773397684097, 0.04528188705444336, 0.015093962661921978, 0.02876191772520542, 0.08628575503826141, 0.02876191772520542, 0.8340955972671509, 0.7525997161865234, 0.187130406498909, 0.748521625995636, 0.9265440106391907, 0.8446530699729919, 0.11266384273767471, 0.6196511387825012, 0.22532768547534943, 0.9794613122940063, 0.9192952513694763, 0.7698937654495239, 0.7846376895904541, 0.3243178129196167, 0.6486356258392334, 0.04505950212478638, 0.45059502124786377, 0.49565452337265015, 0.923116147518158, 0.9474536180496216, 0.7846887707710266, 0.8297716975212097, 0.11853881925344467, 0.9813919067382812, 0.9472756385803223, 0.3317374587059021, 0.5971274375915527, 0.8691263198852539, 0.9718594551086426, 0.7310235500335693, 0.1624496728181839, 0.8494277000427246, 0.9496830105781555, 0.8848675489425659, 0.08903126418590546, 0.08903126418590546, 0.7122501134872437, 0.08903126418590546, 0.44735634326934814, 0.07894523441791534, 0.13157539069652557, 0.05263015627861023, 0.21052062511444092, 0.07894523441791534, 0.18809443712234497, 0.3291652798652649, 0.04702360928058624, 0.4232124984264374, 0.960352897644043, 0.923014760017395, 0.72147536277771, 0.13117733597755432, 0.13117733597755432, 0.9401053786277771, 0.08718764781951904, 0.6975011825561523, 0.17437529563903809, 0.8747299313545227, 0.7482402324676514, 0.8675850033760071, 0.8519662618637085, 0.20432287454605103, 0.39161884784698486, 0.08513452857732773, 0.08513452857732773, 0.06810762733221054, 0.17026905715465546, 0.05539232864975929, 0.16617698967456818, 0.05539232864975929, 0.6093156337738037, 0.05539232864975929, 0.05539232864975929, 0.2171493023633957, 0.2714366316795349, 0.13571831583976746, 0.2714366316795349, 0.10857465118169785, 0.8903769850730896, 0.8393623232841492, 0.8849396109580994, 0.8628814220428467, 0.4010671079158783, 0.0381968691945076, 0.1145906075835228, 0.0190984345972538, 0.0572953037917614, 0.0190984345972538, 0.1527874767780304, 0.1909843385219574, 0.22674494981765747, 0.05668623745441437, 0.05668623745441437, 0.05668623745441437, 0.05668623745441437, 0.5101761221885681, 0.9014325141906738, 0.08585071563720703, 0.9149368405342102, 0.437978595495224, 0.032442860305309296, 0.16221429407596588, 0.048664290457963943, 0.09732858091592789, 0.24332144856452942, 0.971646249294281, 0.2429632693529129, 0.08098775893449783, 0.3355207145214081, 0.05784839764237404, 0.15040583908557892, 0.023139359429478645, 0.05784839764237404, 0.023139359429478645, 0.023139359429478645, 0.060177791863679886, 0.12035558372735977, 0.060177791863679886, 0.060177791863679886, 0.661955714225769, 0.33497512340545654, 0.06699502468109131, 0.5359601974487305, 0.8520624041557312, 0.9205291867256165, 0.8049640655517578, 0.8049500584602356, 0.6873734593391418, 0.833914577960968, 0.9719259142875671, 0.0863964781165123, 0.0863964781165123, 0.5615770816802979, 0.0863964781165123, 0.12959471344947815, 0.0863964781165123, 0.9323021769523621, 0.2976197600364685, 0.05952395498752594, 0.11904790997505188, 0.5357155799865723, 0.7093654870986938, 0.23645515739917755, 0.05911378934979439, 0.5277448296546936, 0.15832345187664032, 0.10554897040128708, 0.21109794080257416, 0.8596284985542297, 0.7527420520782471, 0.7482513189315796, 0.7379853129386902, 0.9575649499893188, 0.8536380529403687, 0.08893834799528122, 0.22234587371349335, 0.4446917474269867, 0.17787669599056244, 0.9057740569114685, 0.1106473058462143, 0.7192075252532959, 0.16597096621990204, 0.9164734482765198, 0.21538811922073364, 0.07179603725671768, 0.14359207451343536, 0.1794901043176651, 0.14359207451343536, 0.07179603725671768, 0.14359207451343536, 0.01794900931417942, 0.9824678897857666, 0.2568390667438507, 0.10701627284288406, 0.14982278645038605, 0.2568390667438507, 0.06420976668596268, 0.06420976668596268, 0.021403254941105843, 0.06420976668596268, 0.8678597807884216, 0.9747433662414551, 0.832329273223877, 0.11890418082475662, 0.7986734509468079, 0.12705904245376587, 0.0952942818403244, 0.41294190287590027, 0.1905885636806488, 0.12705904245376587, 0.1467539221048355, 0.39134377241134644, 0.293507844209671, 0.09783594310283661, 0.8892649412155151, 0.2838798761367798, 0.5204464197158813, 0.18925325572490692, 0.6414731740951538, 0.11663149297237396, 0.23326298594474792, 0.8249744772911072, 0.8272415995597839, 0.6653972864151001, 0.2217990905046463, 0.07393303513526917, 0.868937075138092, 0.9108518958091736, 0.1816285252571106, 0.7265141010284424, 0.7327280640602112, 0.12212134152650833, 0.19315800070762634, 0.676052987575531, 0.22656749188899994, 0.056641872972249985, 0.6797024607658386, 0.9455364346504211, 0.8756886124610901, 0.8695558905601501, 0.1319250911474228, 0.2638501822948456, 0.6596254110336304, 0.07244430482387543, 0.07244430482387543, 0.65199875831604, 0.14488860964775085, 0.8678098917007446, 0.9231162071228027, 0.2789247930049896, 0.6694194674491882, 0.8596284985542297, 0.16177192330360413, 0.11324034631252289, 0.19412630796432495, 0.1294175386428833, 0.1455947309732437, 0.17794911563396454, 0.06470876932144165, 0.016177192330360413, 0.923376739025116, 0.045824065804481506, 0.09164813160896301, 0.22912032902240753, 0.13747219741344452, 0.45824065804481506, 0.045824065804481506, 0.7482513189315796, 0.143611341714859, 0.22977814078330994, 0.6318898797035217, 0.6593919992446899, 0.38661205768585205, 0.48326507210731506, 0.18511240184307098, 0.12340827286243439, 0.6787455081939697, 0.923073410987854, 0.2195889949798584, 0.6587669849395752, 0.3305354416370392, 0.6059816479682922, 0.8673743605613708, 0.9179955720901489, 0.7526245713233948, 0.9309495091438293, 0.2843541204929352, 0.21063268184661865, 0.2527592182159424, 0.0631898045539856, 0.04212653636932373, 0.10531634092330933, 0.0315949022769928, 0.13102997839450836, 0.7861798405647278, 0.9795466661453247, 0.9169881939888, 0.03857479244470596, 0.07714958488941193, 0.03857479244470596, 0.15429916977882385, 0.27002352476119995, 0.38574790954589844, 0.16746297478675842, 0.15071667730808258, 0.16746297478675842, 0.10047778487205505, 0.016746297478675842, 0.13397037982940674, 0.06698518991470337, 0.05023889243602753, 0.13397037982940674, 0.016746297478675842, 0.8596284985542297, 0.143718421459198, 0.71859210729599, 0.143718421459198, 0.9165737628936768, 0.9425570964813232, 0.16838431358337402, 0.05612810328602791, 0.22451241314411163, 0.5051529407501221, 0.7525997161865234, 0.7196150422096252, 0.23987168073654175, 0.8243127465248108, 0.9234313368797302, 0.0892467200756073, 0.3569868803024292, 0.11899562180042267, 0.41648468375205994, 0.7513418197631836, 0.8040888905525208, 0.8596284985542297, 0.8673059344291687, 0.8175482153892517, 0.25011980533599854, 0.7503594160079956, 0.9154101610183716, 0.2547212243080139, 0.14858737587928772, 0.06368030607700348, 0.29717475175857544, 0.14858737587928772, 0.04245353490114212, 0.02122676745057106, 0.9184331893920898, 0.1736615151166916, 0.15436579287052155, 0.21225295960903168, 0.25084441900253296, 0.05788717046380043, 0.038591448217630386, 0.07718289643526077, 0.019295724108815193, 0.7573118805885315, 0.18932797014713287, 0.9026312232017517, 0.9165157079696655, 0.4257669746875763, 0.03275130316615105, 0.0655026063323021, 0.09825391322374344, 0.3602643609046936, 0.051294367760419846, 0.10258873552083969, 0.615532398223877, 0.10258873552083969, 0.10258873552083969, 0.7990615963935852, 0.3253510594367981, 0.6507021188735962, 0.11298840492963791, 0.9039072394371033, 0.8842538595199585, 0.6594657897949219, 0.22890746593475342, 0.5722686648368835, 0.057226866483688354, 0.11445373296737671, 0.9456891417503357, 0.7878555655479431, 0.9146198034286499, 0.12894897162914276, 0.8166768550872803, 0.7501252293586731, 0.25004175305366516, 0.9270911812782288, 0.9116272330284119, 0.7859727144241333, 0.8887744545936584, 0.7848458886146545, 0.10326919704675674, 0.06196151673793793, 0.04130767658352852, 0.8469644784927368, 0.07699677348136902, 0.07699677348136902, 0.8464901447296143, 0.783578634262085, 0.8340100646018982, 0.06883954256772995, 0.6883953809738159, 0.20651862025260925, 0.8846832513809204, 0.7698937654495239, 0.08812262862920761, 0.08812262862920761, 0.7049810290336609, 0.08812262862920761, 0.9171382784843445, 0.6299001574516296, 0.028631825000047684, 0.1717909574508667, 0.05726365000009537, 0.11452730000019073, 0.9146436452865601, 0.9143920540809631, 0.23151850700378418, 0.46303701400756836, 0.046303700655698776, 0.23151850700378418, 0.7378916144371033, 0.60676509141922, 0.1011275202035904, 0.06741834431886673, 0.2022550404071808, 0.919758141040802, 0.8577457666397095, 0.918196976184845, 0.9703985452651978, 0.9074782133102417, 0.25601857900619507, 0.19693736732006073, 0.19693736732006073, 0.25601857900619507, 0.09846868366003036, 0.12104464322328568, 0.2017410695552826, 0.16139285266399384, 0.4034821391105652, 0.08069642633199692, 0.08069642633199692, 0.6008493900299072, 0.027946483343839645, 0.18165214359760284, 0.013973241671919823, 0.027946483343839645, 0.0978126972913742, 0.05589296668767929, 0.541638195514679, 0.16926193237304688, 0.13540954887866974, 0.101557157933712, 0.7295833230018616, 0.956122875213623, 0.06829448789358139, 0.7849133014678955, 0.8673507571220398, 0.8447366952896118, 0.10559208691120148, 0.8019086122512817, 0.27053725719451904, 0.04918859153985977, 0.04918859153985977, 0.14756576716899872, 0.04918859153985977, 0.22134865820407867, 0.22134865820407867, 0.9699506759643555, 0.6369157433509827, 0.31845787167549133, 0.9719416499137878, 0.03276623785495758, 0.1638311892747879, 0.1638311892747879, 0.19659742712974548, 0.29489612579345703, 0.1638311892747879, 0.0479561910033226, 0.2877371311187744, 0.0959123820066452, 0.4795618951320648, 0.0479561910033226, 0.347809761762619, 0.049687109887599945, 0.42234042286872864, 0.1739048808813095, 0.024843554943799973, 0.04321754723787308, 0.6914807558059692, 0.12965263426303864, 0.04321754723787308, 0.04321754723787308, 0.7513418197631836, 0.20575523376464844, 0.0968259871006012, 0.2178584784269333, 0.1936519742012024, 0.1936519742012024, 0.0484129935503006, 0.0242064967751503, 0.01210324838757515, 0.06455633789300919, 0.30126291513442993, 0.30126291513442993, 0.021518778055906296, 0.15063145756721497, 0.12911267578601837, 0.932476818561554, 0.19410215318202972, 0.6793575286865234, 0.09705107659101486, 0.9192646741867065, 0.9709857702255249, 0.7874546051025391, 0.11249351501464844, 0.702633261680603, 0.24798820912837982, 0.7889847755432129, 0.824344277381897, 0.9107357263565063, 0.07922043651342392, 0.8318146467208862, 0.03961021825671196, 0.03811924532055855, 0.6099079251289368, 0.1524769812822342, 0.03811924532055855, 0.11435773223638535, 0.9255897402763367, 0.8986446261405945, 0.8049500584602356, 0.4910386800765991, 0.12275967001914978, 0.07365580648183823, 0.14731161296367645, 0.17186354100704193, 0.15620452165603638, 0.1822386085987091, 0.31240904331207275, 0.2603408694267273, 0.07810226082801819, 0.8669744729995728, 0.27707022428512573, 0.07291321456432343, 0.23332227766513824, 0.1312437802553177, 0.08749585598707199, 0.1312437802553177, 0.02916528470814228, 0.02916528470814228, 0.9814558029174805, 0.9586588144302368, 0.4062718451023102, 0.03693380206823349, 0.3693380355834961, 0.18466901779174805, 0.03693380206823349, 0.9121805429458618, 0.24163202941417694, 0.17259430885314941, 0.5177829265594482, 0.03451886028051376, 0.9048373699188232, 0.24076326191425323, 0.14445795118808746, 0.12038163095712662, 0.09630530327558517, 0.36114490032196045, 0.024076325818896294, 0.8596284985542297, 0.9507765173912048, 0.9626038074493408, 0.9809554219245911, 0.08908935636281967, 0.08908935636281967, 0.3229489028453827, 0.21158722043037415, 0.08908935636281967, 0.044544678181409836, 0.1002255231142044, 0.0334085077047348, 0.6315399408340454, 0.14573998749256134, 0.04857999458909035, 0.14573998749256134, 0.21736320853233337, 0.043472640216350555, 0.15215423703193665, 0.2825721502304077, 0.1956268846988678, 0.021736320108175278, 0.06520896404981613, 0.9510462880134583, 0.2132892608642578, 0.5687713623046875, 0.2132892608642578, 0.09332718700170517, 0.046663593500852585, 0.13999077677726746, 0.13999077677726746, 0.11665897816419601, 0.23331795632839203, 0.11665897816419601, 0.11665897816419601, 0.146492600440979, 0.04883086681365967, 0.6348012685775757, 0.19532346725463867, 0.9106964468955994, 0.9353299140930176, 0.07748404890298843, 0.8523245453834534, 0.9881566762924194, 0.8853863477706909, 0.0632418841123581, 0.944661021232605, 0.8770108222961426, 0.5074626803398132, 0.3242122530937195, 0.042288556694984436, 0.1127694845199585, 0.014096185564994812, 0.7920318245887756, 0.960719108581543, 0.7856234908103943, 0.9250728487968445, 0.08346866816282272, 0.3338746726512909, 0.4451662302017212, 0.1112915575504303, 0.8354842066764832, 0.9134584665298462, 0.768651008605957, 0.09608137607574463, 0.8631647825241089, 0.7995774745941162, 0.8952400088310242, 0.8049640655517578, 0.16425713896751404, 0.16425713896751404, 0.12319285422563553, 0.4927714169025421, 0.9285499453544617, 0.2651589810848236, 0.2121271938085556, 0.1060635969042778, 0.0530317984521389, 0.371222585439682, 0.9354457855224609, 0.9909928441047668, 0.9063888788223267, 0.9934241771697998, 0.9278679490089417, 0.8870172500610352, 0.9447928667068481, 0.07920333743095398, 0.23761001229286194, 0.15840667486190796, 0.07920333743095398, 0.3960166871547699, 0.8950828909873962], \"Term\": [\"\\n\\n \", \"\\n\\n \", \"\\n\\n \", \"\\n\\n \", \"\\n\\n \", \"\\n\\n \", \"\\n\\n \", \"\\n\\n \", \"\\n\\n \", \"\\n\\n \", \"\\n \", \"\\n \", \"\\n \", \"\\n \", \"\\n \", \"\\n \", \"\\n \", \"\\n \", \"\\n \", \"\\n \", \"\\n  \", \"\\n  \", \"  \", \"  \", \"  \", \"  \", \"  \", \"  \", \"  \", \"  \", \"  \", \"  \", \"    \", \"$\", \"$\", \"$\", \"$\", \"$\", \"1\", \"1\", \"1\", \"1\", \"1\", \"1\", \"11\", \"114\", \"2019ncov\", \"2019ncov\", \"2019ncov\", \"2020\", \"2020\", \"2020\", \"2020\", \"2020\", \"2020\", \"28\", \"350\", \"@BBCNews\", \"@BishopJakes\", \"@ErummKhan\", \"@GovKemp\", \"@NLinZimbabwe\", \"@NYGovCuomo\", \"@Pachoto2014\", \"@SHDFZim\", \"@ShamwariyeMwana\", \"@WCOZIMBABWE\", \"@YoungWomenInst\", \"@cthagod\", \"@gmczimbabwe\", \"@unwomenzw\", \"AdnanKhan\", \"Africa\", \"Africa\", \"Africa\", \"AirlineIndustry\", \"BBC\", \"BBC\", \"BadPonyMedia\", \"BernieSanders\", \"BernieSanders\", \"BernieSanders\", \"BizAfrica\", \"Business\", \"CDC\", \"CDC\", \"CHINA\", \"CORONAVIRUS\", \"CORONAVIRUS\", \"COVID-19\", \"COVID-19\", \"COVID-19\", \"COVID-19\", \"COVID-19\", \"COVID-19\", \"COVID-19\", \"COVID19\", \"COVID19\", \"COVID19\", \"COVID19\", \"COVID19\", \"COVID19\", \"COVID19\", \"COVID19\", \"COVID19\", \"COVID19\", \"COVID19India\", \"COVID19Pandemic\", \"COVID19US\", \"COVID19US\", \"COVID2019\", \"COVID2019\", \"COVID2019\", \"COVID2019\", \"COVID2019\", \"COVID2019\", \"COVID2019\", \"COVID2019\", \"COVID2019\", \"COVID\\u30fc19\", \"COVID\\u30fc19\", \"COVID\\u30fc19\", \"COVID\\u30fc19\", \"COVID\\u30fc19\", \"COVID\\u30fc19\", \"COVID\\u30fc19\", \"COVID\\u30fc19\", \"COVID\\u30fc19\", \"CUSTOMER\", \"China\", \"China\", \"China\", \"China\", \"China\", \"China\", \"China\", \"ChinaVirus\", \"ChinaVirus\", \"ChinaVirus\", \"ChinaVirus\", \"City\", \"Corona\", \"Corona\", \"Corona\", \"Corona\", \"Corona\", \"Corona\", \"Corona\", \"Corona\", \"Corona\", \"CoronaAlert\", \"CoronaAlert\", \"CoronaInfoCH\", \"CoronaOutbreak\", \"CoronaOutbreak\", \"CoronaVirus\", \"CoronaVirus\", \"CoronaVirus\", \"CoronaVirus\", \"CoronaVirus\", \"CoronaVirus\", \"CoronaVirus\", \"CoronaVirus\", \"CoronaVirusIran\", \"CoronaVirusItaly\", \"CoronaVirusOutbreak\", \"CoronaVirusOutbreak\", \"CoronaVirusUpdates\", \"CoronaVirusUpdates\", \"CoronaVirusUpdates\", \"CoronaVirusUpdates\", \"CoronaVirusUpdates\", \"CoronaVirusUpdates\", \"CoronaVirusUpdates\", \"CoronaVirusUpdates\", \"CoronaVirusUpdates\", \"Coronavirus\", \"Coronavirus\", \"Coronavirus\", \"Coronavirus\", \"Coronavirus\", \"Coronavirus\", \"Coronavirus\", \"Coronavirus\", \"Coronavirus\", \"Coronavirus\", \"CoronavirusOutbreak\", \"CoronavirusOutbreak\", \"CoronavirusOutbreak\", \"CoronavirusOutbreak\", \"CoronavirusOutbreak\", \"CoronavirusOutbreak\", \"CoronavirusOutbreak\", \"CoronavirusOutbreak\", \"CoronavirusOutbreak\", \"CoronavirusOutbreak\", \"CoronavirusPandemic\", \"CoronavirusPandemic\", \"CoronavirusPandemic\", \"CoronavirusPandemic\", \"CoronavirusPandemic\", \"CoronavirusPandemic\", \"CoronavirusPandemic\", \"CoronavirusPandemic\", \"CoronavirusUpdates\", \"CoronavirusUpdates\", \"County\", \"Covid19\", \"Covid19\", \"Covid19\", \"Covid19\", \"Covid19\", \"Covid19\", \"Covid19\", \"Covid19\", \"Covid19\", \"Covid19\", \"Covid19zw\", \"Covid_19\", \"Covid_19\", \"Covid_19\", \"Covid_19\", \"Covid_19\", \"Delhi\", \"Democrats\", \"Disney\", \"DonaldTrump\", \"DowJones\", \"DowJones\", \"DowJones\", \"DowJones\", \"Dr\", \"Duterte\", \"EconomicImpact\", \"FlattenTheCurve\", \"FlattenTheCurve\", \"FlattenTheCurve\", \"FlattenTheCurve\", \"France\", \"GalaxyS20\", \"GenerationEquality\", \"HES\", \"Healthcare\", \"HighRiskCovid19\", \"HighRiskCovid19\", \"HighRiskCovid19\", \"HighRiskCovid19\", \"Iceland\", \"India\", \"India\", \"India\", \"India\", \"InfectiousDisease\", \"Isolation\", \"Italy\", \"Italy\", \"Italy\", \"Italy\", \"Italy\", \"Jamaica\", \"JoeBiden\", \"Keepcalm\", \"Kerala\", \"Kerala\", \"Korea\", \"Korea\", \"Liberia\", \"Lucknow\", \"M\", \"M\", \"Manila\", \"Mart\", \"Miami\", \"Military\", \"Monday\", \"Monday\", \"Monday\", \"MondayMorning\", \"MondayMorning\", \"MondayMorning\", \"MondayMotivaton\", \"MondayMotivaton\", \"MorningJoe\", \"NatureVsMoney\", \"New\", \"New\", \"New\", \"New\", \"Odisha\", \"PSA\", \"PSA\", \"PSA\", \"Pakistan\", \"Pakistan\", \"Pakistan\", \"Park\", \"Philippines\", \"PublicHealth\", \"PublicHealth\", \"PublicHealth\", \"Quarantine\", \"Quarantine\", \"Quarantine\", \"QuarantineLife\", \"QuarantineLife\", \"QuarantineLife\", \"QuarantineLife\", \"QuarantineLife\", \"QuarantineLife\", \"QuarantineLife\", \"QuarantineLife\", \"ResidentEvil\", \"Resort\", \"RuleOfLaw\", \"SAARC\", \"SARS_COV_2\", \"STEM\", \"SafeHands\", \"ShutItDown\", \"ShutItDown\", \"ShutItDown\", \"ShutItDown\", \"ShutItDown\", \"Sindh\", \"SocialDistancing\", \"SocialDistancing\", \"SocialDistancing\", \"SocialDistancing\", \"SocialDistancing\", \"SocialDistancing\", \"SocialDistancing\", \"SocialDistancing\", \"Somalia\", \"Spain\", \"Spain\", \"Spain\", \"StPatricksDay\", \"StatePark\", \"StatusQuo\", \"StayAtHome\", \"StayAtHome\", \"StayAtHome\", \"StayAtHome\", \"StayAtHome\", \"StayHome\", \"StayHome\", \"StayHome\", \"StayHome\", \"StayTheFHome\", \"StayTheFHome\", \"StayTheFHome\", \"StayTheFHome\", \"StayTheFHome\", \"StayTheFHome\", \"Stayhealthy\", \"Stayhome\", \"Staywell\", \"StopTheSpread\", \"Sweden\", \"Sweden\", \"Taiwan\", \"Tanzania\", \"Times\", \"ToiletPaperPanic\", \"Toronto\", \"TrendER\", \"TrendsReport\", \"Trump\", \"Trump\", \"Trump\", \"Trump\", \"TrumpIsTheWORSTPresidentEVER\", \"TrumpLiesAboutCoronavirus\", \"Turkey\", \"UBI\", \"UBIStimulus\", \"UK\", \"UK\", \"UK\", \"UK\", \"UK\", \"UK\", \"UK\", \"USA\", \"USA\", \"USA\", \"USA\", \"USA\", \"USA\", \"USA\", \"USA\", \"Venezuela\", \"Verily\", \"Villas\", \"VirusCorona\", \"WWG1WGA\", \"WashYourHands\", \"WashYourHands\", \"WashYourHands\", \"WashYourHands\", \"WashYourHands\", \"Washyourhands\", \"Wednesday\", \"Wisconsin\", \"WuhanCoronavius\", \"York\", \"adapt\", \"addition\", \"advice\", \"advice\", \"advice\", \"advice\", \"advocate\", \"affect\", \"affect\", \"affect\", \"affect\", \"affect\", \"afternoon\", \"age\", \"age\", \"ago\", \"airline\", \"airport\", \"airport\", \"alive\", \"amp\", \"amp\", \"amp\", \"amp\", \"amp\", \"amp\", \"amp\", \"amp\", \"apacares\", \"appear\", \"award\", \"basic\", \"beautiful\", \"beautiful\", \"bekind\", \"besafe\", \"bigdata\", \"biker\", \"billion\", \"bin\", \"blame\", \"border\", \"border\", \"breakfastclub\", \"breaking\", \"breaking\", \"breaking\", \"breaking\", \"breathe\", \"build\", \"carry\", \"case\", \"case\", \"case\", \"cat\", \"cause\", \"cause\", \"cedh\", \"challenging\", \"clearly\", \"client\", \"close\", \"close\", \"close\", \"close\", \"close\", \"close\", \"close\", \"close\", \"college\", \"college\", \"combat\", \"combat\", \"combat\", \"come\", \"come\", \"come\", \"come\", \"come\", \"come\", \"come\", \"come\", \"common\", \"community\", \"community\", \"community\", \"community\", \"concern\", \"concern\", \"concerned\", \"confinement\", \"confinement\", \"confirm\", \"continent\", \"contract\", \"contribute\", \"control\", \"control\", \"control\", \"coronapocolypse\", \"coronapocolypse\", \"coronapocolypse\", \"coronapocolypse\", \"coronapocolypse\", \"coronavirus\", \"coronavirus\", \"coronavirus\", \"coronavirus\", \"coronavirus\", \"coronavirus\", \"coronavirus\", \"coronavirus\", \"coronavirus\", \"coronaviruschina\", \"coronaviruskenya\", \"coronaviruskenya\", \"coronaviruskenya\", \"coronaviruskenya\", \"coronavirusoutbreak\", \"coronaviruszw\", \"coronazw\", \"corrupt\", \"count\", \"country\", \"country\", \"country\", \"country\", \"country\", \"country\", \"country\", \"course\", \"court\", \"court\", \"cover\", \"covid\", \"covid\", \"covid\", \"covid19\", \"covid19\", \"covid19\", \"covid19\", \"covid19\", \"covid19\", \"covid19\", \"covid19\", \"covid19\", \"covid19\", \"covidontario\", \"covidontario\", \"covidontario\", \"covidontario\", \"covidtoronto\", \"covid\\u30fc19uk\", \"covid\\u30fc19uk\", \"covid\\u30fc19uk\", \"covid\\u30fc19uk\", \"covid\\u30fc19uk\", \"covid\\u30fc19uk\", \"cute\", \"data\", \"date\", \"date\", \"day\", \"day\", \"day\", \"day\", \"day\", \"day\", \"day\", \"day\", \"day\", \"day\", \"death\", \"death\", \"death\", \"death\", \"decline\", \"delay\", \"delay\", \"difficult\", \"distancelearning\", \"distancing\", \"distancing\", \"distancing\", \"donation\", \"donkey\", \"donkeyoftheday\", \"door\", \"doyourpart\", \"doyourpart\", \"economy\", \"economy\", \"economy\", \"edh\", \"effectively\", \"elderly\", \"employee\", \"employee\", \"error\", \"excellent\", \"expect\", \"expect\", \"expose\", \"extra\", \"fact\", \"fact\", \"fail\", \"feature\", \"fee\", \"feel\", \"feel\", \"feel\", \"feel\", \"fight\", \"fight\", \"fight\", \"fight\", \"fight\", \"fight\", \"follow\", \"follow\", \"follow\", \"follow\", \"foot\", \"freeze\", \"friend\", \"friend\", \"friend\", \"fun\", \"funny\", \"funny\", \"funny\", \"generous\", \"georgia\", \"giant\", \"girl\", \"good\", \"good\", \"good\", \"good\", \"good\", \"good\", \"government\", \"government\", \"government\", \"government\", \"government\", \"government\", \"great\", \"great\", \"great\", \"great\", \"great\", \"guidance\", \"guideline\", \"hair\", \"handwashing\", \"health\", \"health\", \"health\", \"health\", \"health\", \"health\", \"health\", \"health\", \"healthcare\", \"healthcare\", \"healthcare\", \"healthcare\", \"healthcare\", \"healthcare\", \"healthy\", \"healthy\", \"heart\", \"help\", \"help\", \"help\", \"help\", \"help\", \"help\", \"highriskcovid19\", \"home\", \"home\", \"home\", \"home\", \"home\", \"home\", \"home\", \"home\", \"home\", \"hope\", \"hope\", \"hope\", \"hope\", \"hope\", \"hospital\", \"hospital\", \"hospital\", \"house\", \"housing\", \"https://t.co/I6o4UwmTkq\", \"https://t.co/sUKnLI6uym\", \"husband\", \"idiot\", \"immune\", \"impact\", \"impact\", \"impact\", \"impact\", \"impact\", \"impact\", \"industry\", \"infect\", \"infect\", \"infect\", \"infect\", \"info\", \"info\", \"info\", \"information\", \"information\", \"information\", \"information\", \"instagramers\", \"instruction\", \"ipl2020\", \"island\", \"isolate\", \"koronavirus\", \"late\", \"late\", \"late\", \"late\", \"laugh\", \"lead\", \"lead\", \"lead\", \"learnfromhome\", \"let\", \"let\", \"let\", \"let\", \"let\", \"let\", \"let\", \"let\", \"lie\", \"like\", \"like\", \"like\", \"like\", \"like\", \"like\", \"like\", \"like\", \"limited\", \"line\", \"local\", \"local\", \"longer\", \"look\", \"look\", \"look\", \"look\", \"look\", \"love\", \"love\", \"love\", \"love\", \"manage\", \"market\", \"market\", \"market\", \"mask\", \"mask\", \"mask\", \"mass\", \"match\", \"mean\", \"mean\", \"mean\", \"meat\", \"meet\", \"member\", \"member\", \"meme\", \"meme\", \"mentalhealth\", \"mentalhealth\", \"message\", \"message\", \"message\", \"minimum\", \"model\", \"monday\", \"mondaythoughts\", \"mondaythoughts\", \"mondaythoughts\", \"money\", \"money\", \"money\", \"money\", \"moron\", \"mtg\", \"ncov2019\", \"ncov2019\", \"ncrlockdown\", \"need\", \"need\", \"need\", \"need\", \"need\", \"need\", \"need\", \"need\", \"neighbor\", \"new\", \"new\", \"new\", \"new\", \"new\", \"new\", \"nottheausgp\", \"number\", \"number\", \"number\", \"nycschools\", \"nycshutdown\", \"nycshutdown\", \"offer\", \"offer\", \"offer\", \"ok\", \"onlinelearning\", \"onlinelearning\", \"order\", \"order\", \"ordinary\", \"organiser\", \"over-75\", \"p.m.\", \"pandemic\", \"pandemic\", \"pandemic\", \"pandemic\", \"pandemic\", \"pandemic\", \"pandemic\", \"panicshopping\", \"panicshopping\", \"paper\", \"park\", \"patient\", \"patient\", \"patient\", \"patient\", \"patient\", \"patient\", \"people\", \"people\", \"people\", \"people\", \"people\", \"people\", \"people\", \"people\", \"people\", \"people\", \"ph\", \"photo\", \"photo\", \"photo\", \"physician\", \"picture\", \"plan\", \"plan\", \"plan\", \"plan\", \"platelet\", \"play\", \"play\", \"point\", \"port\", \"positive\", \"positive\", \"positive\", \"positive\", \"positively\", \"prank\", \"prayforluzonphils\", \"precautionary\", \"president\", \"professional\", \"professional\", \"program\", \"protect\", \"protect\", \"protect\", \"protect\", \"protect\", \"protect\", \"protect\", \"qanda\", \"quarantine\", \"quarantine\", \"quarantine\", \"quarantine\", \"quarantine\", \"quarantine\", \"quarantine\", \"quarantine\", \"question\", \"question\", \"quickly\", \"rant\", \"read\", \"read\", \"read\", \"read\", \"read\", \"real\", \"real\", \"real\", \"real\", \"real\", \"realestate\", \"reality\", \"reality\", \"record\", \"record\", \"recover\", \"relax\", \"remember\", \"remember\", \"remember\", \"remember\", \"remote\", \"remotely\", \"remoteworke\", \"report\", \"report\", \"resource\", \"resource\", \"respect\", \"responsible\", \"ride\", \"road\", \"safe\", \"safe\", \"safe\", \"safe\", \"safety\", \"safety\", \"safety\", \"sale\", \"scale\", \"schedule\", \"self\", \"self\", \"self\", \"sell\", \"sermon\", \"service\", \"service\", \"service\", \"service\", \"severe\", \"share\", \"share\", \"share\", \"share\", \"share\", \"shelf\", \"ship\", \"shut\", \"shut\", \"shut\", \"shut\", \"smile\", \"social\", \"social\", \"social\", \"social\", \"solidarity\", \"solution\", \"sore\", \"space\", \"spend\", \"spread\", \"spread\", \"spread\", \"spread\", \"spread\", \"start\", \"start\", \"start\", \"start\", \"start\", \"start\", \"stay\", \"stay\", \"stay\", \"stay\", \"stay\", \"stay\", \"stay\", \"stayathome\", \"stayathome\", \"stayathome\", \"stayathome\", \"stayhomesavelives\", \"staysafe\", \"staysafe\", \"staythefhome\", \"strain\", \"student\", \"student\", \"study\", \"support\", \"support\", \"support\", \"support\", \"support\", \"support\", \"support\", \"surpass\", \"symptom\", \"symptom\", \"team\", \"test\", \"test\", \"test\", \"test\", \"test\", \"test\", \"testing\", \"testing\", \"testing\", \"testing\", \"testing\", \"thank\", \"thank\", \"thank\", \"thank\", \"thank\", \"thing\", \"thing\", \"thing\", \"thing\", \"thing\", \"thinking\", \"time\", \"time\", \"time\", \"time\", \"time\", \"time\", \"time\", \"time\", \"today\", \"today\", \"today\", \"today\", \"today\", \"today\", \"toilet\", \"toiletpaper\", \"toiletpaper\", \"toiletpaper\", \"torch\", \"total\", \"trading\", \"trading\", \"travel\", \"travel\", \"trial\", \"trigger\", \"trillion\", \"trump\", \"trump\", \"trump\", \"try\", \"try\", \"try\", \"try\", \"try\", \"twitter\", \"uk\", \"uninformed\", \"update\", \"update\", \"update\", \"update\", \"update\", \"use\", \"use\", \"use\", \"use\", \"use\", \"usual\", \"virus\", \"virus\", \"virus\", \"virus\", \"virus\", \"virus\", \"virus\", \"virus\", \"vs\", \"w/\", \"want\", \"want\", \"want\", \"want\", \"want\", \"war\", \"watch\", \"watch\", \"watch\", \"watch\", \"webinar\", \"week\", \"week\", \"week\", \"week\", \"week\", \"week\", \"winterregino\", \"wish\", \"womensmonthzim\", \"womenzw\", \"work\", \"work\", \"work\", \"work\", \"work\", \"work\", \"work\", \"work\", \"worker\", \"worker\", \"worker\", \"worker\", \"world\", \"world\", \"world\", \"world\", \"world\", \"world\", \"world\", \"worsen\", \"year\", \"year\", \"year\", \"|\", \"|\", \"|\", \"|\", \"|\", \"|\", \"|\", \"|\", \"~\", \"~\", \"~\", \"~\", \"\\u2640\", \"\\u2665\", \"\\u26a0\", \"\\u26a0\", \"\\u2705\", \"\\u2764\", \"\\u2764\", \"\\u27a1\", \"\\u2b07\", \"\\ufe0f\", \"\\ufe0f\", \"\\ufe0f\", \"\\ufe0f\", \"\\ufe0f\", \"\\ud83c\\uddf3\", \"\\ud83c\\udf0d\", \"\\ud83c\\udfce\", \"\\ud83d\\udc1d\", \"\\ud83d\\udc47\", \"\\ud83d\\udc47\", \"\\ud83d\\udc47\", \"\\ud83d\\udc47\", \"\\ud83d\\udc4a\", \"\\ud83d\\udc4f\", \"\\ud83d\\udc69\", \"\\ud83d\\udc69\", \"\\ud83d\\udc9a\", \"\\ud83d\\udca5\", \"\\ud83d\\udcaf\", \"\\ud83d\\udce3\", \"\\ud83d\\ude02\", \"\\ud83d\\ude02\", \"\\ud83d\\ude02\", \"\\ud83d\\ude02\", \"\\ud83d\\ude0a\", \"\\ud83d\\ude37\", \"\\ud83d\\ude37\", \"\\ud83d\\ude37\", \"\\ud83d\\ude37\", \"\\ud83d\\ude37\", \"\\ud83d\\udea8\", \"\\ud83d\\uded1\", \"\\ud83e\\udd14\", \"\\ud83e\\udd23\", \"\\ud83e\\udd2c\", \"\\ud83e\\udd37\", \"\\ud83e\\udd7a\", \"\\ud83e\\udda0\", \"\\ud83e\\udda0\", \"\\ud83e\\udda0\", \"\\ud83e\\udda0\", \"\\ud83e\\udda0\", \"\\ud83e\\uddfb\"]}, \"R\": 30, \"lambda.step\": 0.01, \"plot.opts\": {\"xlab\": \"PC1\", \"ylab\": \"PC2\"}, \"topic.order\": [6, 7, 2, 10, 1, 5, 3, 9, 8, 4]};\n",
       "\n",
       "function LDAvis_load_lib(url, callback){\n",
       "  var s = document.createElement('script');\n",
       "  s.src = url;\n",
       "  s.async = true;\n",
       "  s.onreadystatechange = s.onload = callback;\n",
       "  s.onerror = function(){console.warn(\"failed to load library \" + url);};\n",
       "  document.getElementsByTagName(\"head\")[0].appendChild(s);\n",
       "}\n",
       "\n",
       "if(typeof(LDAvis) !== \"undefined\"){\n",
       "   // already loaded: just create the visualization\n",
       "   !function(LDAvis){\n",
       "       new LDAvis(\"#\" + \"ldavis_el645841130871308321824471278\", ldavis_el645841130871308321824471278_data);\n",
       "   }(LDAvis);\n",
       "}else if(typeof define === \"function\" && define.amd){\n",
       "   // require.js is available: use it to load d3/LDAvis\n",
       "   require.config({paths: {d3: \"https://cdnjs.cloudflare.com/ajax/libs/d3/3.5.5/d3.min\"}});\n",
       "   require([\"d3\"], function(d3){\n",
       "      window.d3 = d3;\n",
       "      LDAvis_load_lib(\"https://cdn.rawgit.com/bmabey/pyLDAvis/files/ldavis.v1.0.0.js\", function(){\n",
       "        new LDAvis(\"#\" + \"ldavis_el645841130871308321824471278\", ldavis_el645841130871308321824471278_data);\n",
       "      });\n",
       "    });\n",
       "}else{\n",
       "    // require.js not available: dynamically load d3 & LDAvis\n",
       "    LDAvis_load_lib(\"https://cdnjs.cloudflare.com/ajax/libs/d3/3.5.5/d3.min.js\", function(){\n",
       "         LDAvis_load_lib(\"https://cdn.rawgit.com/bmabey/pyLDAvis/files/ldavis.v1.0.0.js\", function(){\n",
       "                 new LDAvis(\"#\" + \"ldavis_el645841130871308321824471278\", ldavis_el645841130871308321824471278_data);\n",
       "            })\n",
       "         });\n",
       "}\n",
       "</script>"
      ],
      "text/plain": [
       "PreparedData(topic_coordinates=              x         y  topics  cluster       Freq\n",
       "topic                                                \n",
       "5      0.090507  0.069367       1        1  15.559608\n",
       "6      0.060325  0.051540       2        1  13.374953\n",
       "1      0.030683  0.061481       3        1  12.713668\n",
       "9      0.089939 -0.101708       4        1  11.856771\n",
       "0      0.099434 -0.129779       5        1  11.176959\n",
       "4      0.000595  0.118555       6        1   9.044087\n",
       "2     -0.040032  0.066464       7        1   8.769285\n",
       "8     -0.152088 -0.018904       8        1   7.693110\n",
       "7     -0.089659 -0.077665       9        1   5.502842\n",
       "3     -0.089705 -0.039351      10        1   4.308722, topic_info=     Category         Freq            Term        Total  loglift  logprob\n",
       "26    Default  1268.000000             \\n   1268.000000  30.0000  30.0000\n",
       "526   Default   110.000000            case   110.000000  29.0000  29.0000\n",
       "8     Default   941.000000         COVID19   941.000000  28.0000  28.0000\n",
       "1311  Default    56.000000         confirm    56.000000  27.0000  27.0000\n",
       "295   Default   130.000000  QuarantineLife   130.000000  26.0000  26.0000\n",
       "...       ...          ...             ...          ...      ...      ...\n",
       "72    Topic10     5.816514         Covid19   159.827591  -0.1689  -5.6453\n",
       "26    Topic10     7.498362             \\n   1268.300293  -1.9862  -5.3913\n",
       "9     Topic10     4.995387     CoronaVirus    65.494522   0.5711  -5.7975\n",
       "2     Topic10     5.577460         covid19   824.904785  -1.8520  -5.6872\n",
       "231   Topic10     5.028812                   338.701752  -1.0654  -5.7908\n",
       "\n",
       "[671 rows x 6 columns], token_table=      Topic      Freq   Term\n",
       "term                        \n",
       "7         1  0.238965  \\n\\n \n",
       "7         2  0.264050  \\n\\n \n",
       "7         3  0.192757  \\n\\n \n",
       "7         4  0.059411  \\n\\n \n",
       "7         5  0.040928  \\n\\n \n",
       "...     ...       ...    ...\n",
       "446       5  0.237610      🦠\n",
       "446       8  0.158407      🦠\n",
       "446       9  0.079203      🦠\n",
       "446      10  0.396017      🦠\n",
       "936       2  0.895083      🧻\n",
       "\n",
       "[1225 rows x 3 columns], R=30, lambda_step=0.01, plot_opts={'xlab': 'PC1', 'ylab': 'PC2'}, topic_order=[6, 7, 2, 10, 1, 5, 3, 9, 8, 4])"
      ]
     },
     "execution_count": 18,
     "metadata": {},
     "output_type": "execute_result"
    }
   ],
   "source": [
    "import pyLDAvis\n",
    "import pyLDAvis\n",
    "import pyLDAvis.gensim  # don't skip this\n",
    "import matplotlib.pyplot as plt\n",
    "%matplotlib inline\n",
    " \n",
    "pyLDAvis.enable_notebook()\n",
    "panel = pyLDAvis.gensim.prepare(lda_model, corpus, words)\n",
    "panel\n",
    " "
   ]
  },
  {
   "cell_type": "markdown",
   "metadata": {},
   "source": [
    "-----------------------------------------------------------"
   ]
  },
  {
   "cell_type": "code",
   "execution_count": 20,
   "metadata": {},
   "outputs": [
    {
     "name": "stderr",
     "output_type": "stream",
     "text": [
      "[nltk_data] Downloading package stopwords to\n",
      "[nltk_data]     /Users/akshaykulkarni/nltk_data...\n",
      "[nltk_data]   Package stopwords is already up-to-date!\n"
     ]
    }
   ],
   "source": [
    "import sys\n",
    "# !{sys.executable} -m spacy download en\n",
    "import re, numpy as np, pandas as pd\n",
    "from pprint import pprint\n",
    "\n",
    "import nltk\n",
    "nltk.download('stopwords')\n",
    "\n",
    "# Gensim\n",
    "import gensim, spacy, logging, warnings\n",
    "import gensim.corpora as corpora\n",
    "from gensim.utils import lemmatize, simple_preprocess\n",
    "from gensim.models import CoherenceModel\n",
    "import matplotlib.pyplot as plt\n",
    "\n",
    "# NLTK Stop words\n",
    "from nltk.corpus import stopwords\n",
    "stop_words = stopwords.words('english')\n",
    "stop_words.extend(['from', 'subject', 're', 'edu','RT',\"@\",'.','co',\n",
    "                   'http','https',\"COVID19\",\"COVID\",\"coronavirus\"\n",
    "                   \"Covid\",\"covid\",\"CORONA\",\"Corona\",\"corona\"])\n",
    "\n",
    "%matplotlib inline\n",
    "warnings.filterwarnings(\"ignore\",category=DeprecationWarning)\n",
    "logging.basicConfig(format='%(asctime)s : %(levelname)s : %(message)s', level=logging.ERROR)"
   ]
  },
  {
   "cell_type": "code",
   "execution_count": 21,
   "metadata": {},
   "outputs": [],
   "source": [
    "def sent_to_words(sentences):\n",
    "    for sent in sentences:\n",
    "        sent = re.sub('\\S*@\\S*\\s?', '', sent)  # remove emails\n",
    "        sent = re.sub('\\s+', ' ', sent)  # remove newline chars\n",
    "        sent = re.sub(\"\\'\", \"\", sent)  # remove single quotes\n",
    "        sent = gensim.utils.simple_preprocess(str(sent), deacc=True) \n",
    "        yield(sent)  \n",
    "\n",
    "# Convert to list\n",
    "data = tweets.text.values.tolist()\n",
    "data_words = list(sent_to_words(data))\n"
   ]
  },
  {
   "cell_type": "code",
   "execution_count": 22,
   "metadata": {},
   "outputs": [],
   "source": [
    "# Build the bigram and trigram models\n",
    "bigram = gensim.models.Phrases(data_words, min_count=5, threshold=100) # higher threshold fewer phrases.\n",
    "trigram = gensim.models.Phrases(bigram[data_words], threshold=100)  \n",
    "bigram_mod = gensim.models.phrases.Phraser(bigram)\n",
    "trigram_mod = gensim.models.phrases.Phraser(trigram)\n",
    "\n",
    "# !python3 -m spacy download en  # run in terminal once\n",
    "# or do\n",
    "# !conda install -c conda-forge spacy-model-en_core_web_md \n",
    "# and use nlp=spacy.load('en_core_web_sm') instead in below function.\n",
    "def process_words(texts, stop_words=stop_words, allowed_postags=['NOUN', 'ADJ', 'VERB', 'ADV']):\n",
    "    \"\"\"Remove Stopwords, Form Bigrams, Trigrams and Lemmatization\"\"\"\n",
    "    texts = [[word for word in simple_preprocess(str(doc)) if word not in stop_words] for doc in texts]\n",
    "    texts = [bigram_mod[doc] for doc in texts]\n",
    "    texts = [trigram_mod[bigram_mod[doc]] for doc in texts]\n",
    "    texts_out = []\n",
    "    nlp = spacy.load('en_core_web_md',disable=['parser', 'ner'])\n",
    "#     nlp = spacy.load('en', disable=['parser', 'ner'])\n",
    "    for sent in texts:\n",
    "        doc = nlp(\" \".join(sent)) \n",
    "        texts_out.append([token.lemma_ for token in doc if token.pos_ in allowed_postags])\n",
    "    # remove stopwords once more after lemmatization\n",
    "    texts_out = [[word for word in simple_preprocess(str(doc)) if word not in stop_words] for doc in texts_out]    \n",
    "    return texts_out\n",
    "\n",
    "data_ready = process_words(data_words)  # processed Text Data!"
   ]
  },
  {
   "cell_type": "code",
   "execution_count": 17,
   "metadata": {},
   "outputs": [
    {
     "name": "stdout",
     "output_type": "stream",
     "text": [
      "[(0,\n",
      "  '0.177*\"coronavirus\" + 0.034*\"work\" + 0.012*\"affect\" + 0.011*\"morning\" + '\n",
      "  '0.010*\"show\" + 0.010*\"live\" + 0.010*\"worry\" + 0.010*\"symptom\" + '\n",
      "  '0.010*\"spread\" + 0.009*\"love\"'),\n",
      " (1,\n",
      "  '0.029*\"home\" + 0.022*\"help\" + 0.022*\"due\" + 0.017*\"covid\" + '\n",
      "  '0.017*\"pandemic\" + 0.015*\"week\" + 0.014*\"share\" + 0.013*\"keep\" + '\n",
      "  '0.011*\"last\" + 0.010*\"office\"'),\n",
      " (2,\n",
      "  '0.109*\"co\" + 0.041*\"https\" + 0.036*\"amp\" + 0.015*\"country\" + 0.015*\"close\" '\n",
      "  '+ 0.014*\"great\" + 0.014*\"time\" + 0.012*\"together\" + 0.011*\"fight\" + '\n",
      "  '0.010*\"health\"'),\n",
      " (3,\n",
      "  '0.031*\"let\" + 0.025*\"case\" + 0.025*\"support\" + 0.024*\"virus\" + '\n",
      "  '0.023*\"people\" + 0.022*\"day\" + 0.019*\"positive\" + 0.012*\"protect\" + '\n",
      "  '0.012*\"confirm\" + 0.012*\"remember\"')]\n"
     ]
    }
   ],
   "source": [
    "# Create Dictionary\n",
    "id2word = corpora.Dictionary(data_ready)\n",
    "\n",
    "# Create Corpus: Term Document Frequency\n",
    "corpus = [id2word.doc2bow(text) for text in data_ready]\n",
    "\n",
    "# Build LDA model\n",
    "lda_model = gensim.models.ldamodel.LdaModel(corpus=corpus,\n",
    "                                           id2word=id2word,\n",
    "                                           num_topics=4, \n",
    "                                           random_state=100,\n",
    "                                           update_every=1,\n",
    "                                           chunksize=10,\n",
    "                                           passes=10,\n",
    "                                           alpha='symmetric',\n",
    "                                           iterations=100,\n",
    "                                           per_word_topics=True)\n",
    "\n",
    "pprint(lda_model.print_topics())"
   ]
  },
  {
   "cell_type": "code",
   "execution_count": 18,
   "metadata": {},
   "outputs": [
    {
     "data": {
      "text/html": [
       "<div>\n",
       "<style scoped>\n",
       "    .dataframe tbody tr th:only-of-type {\n",
       "        vertical-align: middle;\n",
       "    }\n",
       "\n",
       "    .dataframe tbody tr th {\n",
       "        vertical-align: top;\n",
       "    }\n",
       "\n",
       "    .dataframe thead th {\n",
       "        text-align: right;\n",
       "    }\n",
       "</style>\n",
       "<table border=\"1\" class=\"dataframe\">\n",
       "  <thead>\n",
       "    <tr style=\"text-align: right;\">\n",
       "      <th></th>\n",
       "      <th>Document_No</th>\n",
       "      <th>Dominant_Topic</th>\n",
       "      <th>Topic_Perc_Contrib</th>\n",
       "      <th>Keywords</th>\n",
       "      <th>Text</th>\n",
       "    </tr>\n",
       "  </thead>\n",
       "  <tbody>\n",
       "    <tr>\n",
       "      <td>0</td>\n",
       "      <td>0</td>\n",
       "      <td>2.0</td>\n",
       "      <td>0.6250</td>\n",
       "      <td>co, https, amp, country, close, great, time, t...</td>\n",
       "      <td>[close]</td>\n",
       "    </tr>\n",
       "    <tr>\n",
       "      <td>1</td>\n",
       "      <td>1</td>\n",
       "      <td>2.0</td>\n",
       "      <td>0.8236</td>\n",
       "      <td>co, https, amp, country, close, great, time, t...</td>\n",
       "      <td>[dimension, response, art, effective, crisis, ...</td>\n",
       "    </tr>\n",
       "    <tr>\n",
       "      <td>2</td>\n",
       "      <td>2</td>\n",
       "      <td>3.0</td>\n",
       "      <td>0.5685</td>\n",
       "      <td>let, case, support, virus, people, day, positi...</td>\n",
       "      <td>[luck]</td>\n",
       "    </tr>\n",
       "    <tr>\n",
       "      <td>3</td>\n",
       "      <td>3</td>\n",
       "      <td>0.0</td>\n",
       "      <td>0.7500</td>\n",
       "      <td>coronavirus, work, affect, morning, show, live...</td>\n",
       "      <td>[infect, coronavirus]</td>\n",
       "    </tr>\n",
       "    <tr>\n",
       "      <td>4</td>\n",
       "      <td>4</td>\n",
       "      <td>0.0</td>\n",
       "      <td>0.5786</td>\n",
       "      <td>coronavirus, work, affect, morning, show, live...</td>\n",
       "      <td>[fact, fear, coronavirus, importantly]</td>\n",
       "    </tr>\n",
       "    <tr>\n",
       "      <td>5</td>\n",
       "      <td>5</td>\n",
       "      <td>0.0</td>\n",
       "      <td>0.2510</td>\n",
       "      <td>coronavirus, work, affect, morning, show, live...</td>\n",
       "      <td>[percentage, death, high, test, enough]</td>\n",
       "    </tr>\n",
       "    <tr>\n",
       "      <td>6</td>\n",
       "      <td>6</td>\n",
       "      <td>0.0</td>\n",
       "      <td>0.4169</td>\n",
       "      <td>coronavirus, work, affect, morning, show, live...</td>\n",
       "      <td>[coronavirus, call]</td>\n",
       "    </tr>\n",
       "    <tr>\n",
       "      <td>7</td>\n",
       "      <td>7</td>\n",
       "      <td>1.0</td>\n",
       "      <td>0.5198</td>\n",
       "      <td>home, help, due, covid, pandemic, week, share,...</td>\n",
       "      <td>[stand, time, share, support, friend, colleagu...</td>\n",
       "    </tr>\n",
       "    <tr>\n",
       "      <td>8</td>\n",
       "      <td>8</td>\n",
       "      <td>2.0</td>\n",
       "      <td>0.8928</td>\n",
       "      <td>co, https, amp, country, close, great, time, t...</td>\n",
       "      <td>[maybe, maybe, learn, time, https, co]</td>\n",
       "    </tr>\n",
       "    <tr>\n",
       "      <td>9</td>\n",
       "      <td>9</td>\n",
       "      <td>0.0</td>\n",
       "      <td>0.2500</td>\n",
       "      <td>coronavirus, work, affect, morning, show, live...</td>\n",
       "      <td>[]</td>\n",
       "    </tr>\n",
       "  </tbody>\n",
       "</table>\n",
       "</div>"
      ],
      "text/plain": [
       "   Document_No  Dominant_Topic  Topic_Perc_Contrib  \\\n",
       "0            0             2.0              0.6250   \n",
       "1            1             2.0              0.8236   \n",
       "2            2             3.0              0.5685   \n",
       "3            3             0.0              0.7500   \n",
       "4            4             0.0              0.5786   \n",
       "5            5             0.0              0.2510   \n",
       "6            6             0.0              0.4169   \n",
       "7            7             1.0              0.5198   \n",
       "8            8             2.0              0.8928   \n",
       "9            9             0.0              0.2500   \n",
       "\n",
       "                                            Keywords  \\\n",
       "0  co, https, amp, country, close, great, time, t...   \n",
       "1  co, https, amp, country, close, great, time, t...   \n",
       "2  let, case, support, virus, people, day, positi...   \n",
       "3  coronavirus, work, affect, morning, show, live...   \n",
       "4  coronavirus, work, affect, morning, show, live...   \n",
       "5  coronavirus, work, affect, morning, show, live...   \n",
       "6  coronavirus, work, affect, morning, show, live...   \n",
       "7  home, help, due, covid, pandemic, week, share,...   \n",
       "8  co, https, amp, country, close, great, time, t...   \n",
       "9  coronavirus, work, affect, morning, show, live...   \n",
       "\n",
       "                                                Text  \n",
       "0                                            [close]  \n",
       "1  [dimension, response, art, effective, crisis, ...  \n",
       "2                                             [luck]  \n",
       "3                              [infect, coronavirus]  \n",
       "4             [fact, fear, coronavirus, importantly]  \n",
       "5            [percentage, death, high, test, enough]  \n",
       "6                                [coronavirus, call]  \n",
       "7  [stand, time, share, support, friend, colleagu...  \n",
       "8             [maybe, maybe, learn, time, https, co]  \n",
       "9                                                 []  "
      ]
     },
     "execution_count": 18,
     "metadata": {},
     "output_type": "execute_result"
    }
   ],
   "source": [
    "def format_topics_sentences(ldamodel=None, corpus=corpus, texts=data):\n",
    "    # Init output\n",
    "    sent_topics_df = pd.DataFrame()\n",
    "\n",
    "    # Get main topic in each document\n",
    "    for i, row_list in enumerate(ldamodel[corpus]):\n",
    "        row = row_list[0] if ldamodel.per_word_topics else row_list            \n",
    "        # print(row)\n",
    "        row = sorted(row, key=lambda x: (x[1]), reverse=True)\n",
    "        # Get the Dominant topic, Perc Contribution and Keywords for each document\n",
    "        for j, (topic_num, prop_topic) in enumerate(row):\n",
    "            if j == 0:  # => dominant topic\n",
    "                wp = ldamodel.show_topic(topic_num)\n",
    "                topic_keywords = \", \".join([word for word, prop in wp])\n",
    "                sent_topics_df = sent_topics_df.append(pd.Series([int(topic_num), round(prop_topic,4), topic_keywords]), ignore_index=True)\n",
    "            else:\n",
    "                break\n",
    "    sent_topics_df.columns = ['Dominant_Topic', 'Perc_Contribution', 'Topic_Keywords']\n",
    "\n",
    "    # Add original text to the end of the output\n",
    "    contents = pd.Series(texts)\n",
    "    sent_topics_df = pd.concat([sent_topics_df, contents], axis=1)\n",
    "    return(sent_topics_df)\n",
    "\n",
    "\n",
    "df_topic_sents_keywords = format_topics_sentences(ldamodel=lda_model, corpus=corpus, texts=data_ready)\n",
    "\n",
    "# Format\n",
    "df_dominant_topic = df_topic_sents_keywords.reset_index()\n",
    "df_dominant_topic.columns = ['Document_No', 'Dominant_Topic', 'Topic_Perc_Contrib', 'Keywords', 'Text']\n",
    "df_dominant_topic.head(10)"
   ]
  },
  {
   "cell_type": "code",
   "execution_count": null,
   "metadata": {},
   "outputs": [],
   "source": []
  }
 ],
 "metadata": {
  "kernelspec": {
   "display_name": "Python 3",
   "language": "python",
   "name": "python3"
  },
  "language_info": {
   "codemirror_mode": {
    "name": "ipython",
    "version": 3
   },
   "file_extension": ".py",
   "mimetype": "text/x-python",
   "name": "python",
   "nbconvert_exporter": "python",
   "pygments_lexer": "ipython3",
   "version": "3.7.4"
  },
  "pycharm": {
   "stem_cell": {
    "cell_type": "raw",
    "metadata": {
     "collapsed": false
    },
    "source": []
   }
  }
 },
 "nbformat": 4,
 "nbformat_minor": 4
}
